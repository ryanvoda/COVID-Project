{
 "cells": [
  {
   "cell_type": "markdown",
   "id": "17f074b9-ef99-4787-a108-682d1ef98d90",
   "metadata": {},
   "source": [
    "# COVID Data: Correlations with Distress Levels"
   ]
  },
  {
   "cell_type": "markdown",
   "id": "05299e18-0393-49f7-9e94-34cf7e29e9e9",
   "metadata": {},
   "source": [
    "Run the following cell:"
   ]
  },
  {
   "cell_type": "code",
   "execution_count": 1,
   "id": "34240e10-7743-4513-a37e-4d4b79e335d9",
   "metadata": {},
   "outputs": [],
   "source": [
    "import pandas as pd\n",
    "import os\n",
    "import plotly.io as pio\n",
    "pio.renderers.default= 'iframe'\n",
    "import plotly.express as px\n",
    "import plotly.graph_objects as go\n",
    "import numpy as np\n",
    "import plotly.figure_factory as ff\n",
    "import matplotlib.pyplot as plt\n",
    "from scipy import stats\n",
    "from sklearn.linear_model import LinearRegression"
   ]
  },
  {
   "cell_type": "markdown",
   "id": "2fa99f89-d85b-4a92-8190-a3071dd15987",
   "metadata": {},
   "source": [
    "Run the following line in conda Powershell prompt:"
   ]
  },
  {
   "cell_type": "raw",
   "id": "ad67f541-5654-4576-957d-2564aebd6c35",
   "metadata": {},
   "source": [
    "conda install -c conda-forge pyreadstat"
   ]
  },
  {
   "cell_type": "markdown",
   "id": "822338d5-7048-4cdf-8b2f-6b16e339d904",
   "metadata": {},
   "source": [
    "Visit https://healthpolicy.ucla.edu/chis/data/Pages/public-use-data.aspx and create an account. Click on the data files link, and scroll to the bottom of the page. Download the adult SPSS file from the 2020 CHIS column.\n",
    "\n",
    "Get the absolute directory and paste it between the quotation marks.\n",
    "\n",
    "(more info: https://stackoverflow.com/questions/5265702/how-to-get-full-path-of-a-file)\n",
    "\n",
    "Run the following code. If it doesn't run, make sure you downloaded the SPSS file, unzipped the file, obtained the file's absolute directory, and pasted it correctly."
   ]
  },
  {
   "cell_type": "code",
   "execution_count": 2,
   "id": "d9b6ac66-a29e-4d3a-9661-93488ec43e22",
   "metadata": {},
   "outputs": [
    {
     "data": {
      "text/html": [
       "<div>\n",
       "<style scoped>\n",
       "    .dataframe tbody tr th:only-of-type {\n",
       "        vertical-align: middle;\n",
       "    }\n",
       "\n",
       "    .dataframe tbody tr th {\n",
       "        vertical-align: top;\n",
       "    }\n",
       "\n",
       "    .dataframe thead th {\n",
       "        text-align: right;\n",
       "    }\n",
       "</style>\n",
       "<table border=\"1\" class=\"dataframe\">\n",
       "  <thead>\n",
       "    <tr style=\"text-align: right;\">\n",
       "      <th></th>\n",
       "      <th>AA5C</th>\n",
       "      <th>AA5G</th>\n",
       "      <th>AB1</th>\n",
       "      <th>AB112</th>\n",
       "      <th>AB17</th>\n",
       "      <th>AB18</th>\n",
       "      <th>AB22V2</th>\n",
       "      <th>AB23_P1</th>\n",
       "      <th>AB24</th>\n",
       "      <th>AB25</th>\n",
       "      <th>...</th>\n",
       "      <th>USUAL_TP</th>\n",
       "      <th>VOTE_ENG2</th>\n",
       "      <th>VOTE_RSNNO</th>\n",
       "      <th>WEIGHK_P</th>\n",
       "      <th>WGHTK_P</th>\n",
       "      <th>WGHTP_P</th>\n",
       "      <th>WHOBMI</th>\n",
       "      <th>WORK2</th>\n",
       "      <th>WRKST_P1</th>\n",
       "      <th>YRUS_P1</th>\n",
       "    </tr>\n",
       "  </thead>\n",
       "  <tbody>\n",
       "    <tr>\n",
       "      <th>0</th>\n",
       "      <td>INAPPLICABLE</td>\n",
       "      <td>INAPPLICABLE</td>\n",
       "      <td>GOOD</td>\n",
       "      <td>INAPPLICABLE</td>\n",
       "      <td>NO</td>\n",
       "      <td>INAPPLICABLE</td>\n",
       "      <td>NO</td>\n",
       "      <td>INAPPLICABLE</td>\n",
       "      <td>INAPPLICABLE</td>\n",
       "      <td>INAPPLICABLE</td>\n",
       "      <td>...</td>\n",
       "      <td>DOC OFFICE/HMO/KAISER</td>\n",
       "      <td>SOMETIMES ENGAGED</td>\n",
       "      <td>VOTING DOESN’T MAKE A DIFFERENCE</td>\n",
       "      <td>71.67</td>\n",
       "      <td>71.67</td>\n",
       "      <td>158.0</td>\n",
       "      <td>23.0 - 27.49 (INCREASED RISK)</td>\n",
       "      <td>NONE</td>\n",
       "      <td>FULL-TIME EMPLOYMENT (21+ HRS/WEEK)</td>\n",
       "      <td>INAPPLICABLE</td>\n",
       "    </tr>\n",
       "    <tr>\n",
       "      <th>1</th>\n",
       "      <td>INAPPLICABLE</td>\n",
       "      <td>INAPPLICABLE</td>\n",
       "      <td>VERY GOOD</td>\n",
       "      <td>INAPPLICABLE</td>\n",
       "      <td>NO</td>\n",
       "      <td>INAPPLICABLE</td>\n",
       "      <td>NO</td>\n",
       "      <td>INAPPLICABLE</td>\n",
       "      <td>INAPPLICABLE</td>\n",
       "      <td>INAPPLICABLE</td>\n",
       "      <td>...</td>\n",
       "      <td>DOC OFFICE/HMO/KAISER</td>\n",
       "      <td>SOMETIMES ENGAGED</td>\n",
       "      <td>TOO BUSY OR FORGOT</td>\n",
       "      <td>72.57</td>\n",
       "      <td>72.57</td>\n",
       "      <td>160.0</td>\n",
       "      <td>23.0 - 27.49 (INCREASED RISK)</td>\n",
       "      <td>INAPPLICABLE</td>\n",
       "      <td>UNEMPLOYED, NOT LOOKING FOR WORK</td>\n",
       "      <td>INAPPLICABLE</td>\n",
       "    </tr>\n",
       "    <tr>\n",
       "      <th>2</th>\n",
       "      <td>INAPPLICABLE</td>\n",
       "      <td>INAPPLICABLE</td>\n",
       "      <td>VERY GOOD</td>\n",
       "      <td>INAPPLICABLE</td>\n",
       "      <td>NO</td>\n",
       "      <td>INAPPLICABLE</td>\n",
       "      <td>NO</td>\n",
       "      <td>INAPPLICABLE</td>\n",
       "      <td>INAPPLICABLE</td>\n",
       "      <td>INAPPLICABLE</td>\n",
       "      <td>...</td>\n",
       "      <td>DOC OFFICE/HMO/KAISER</td>\n",
       "      <td>ALWAYS ENGAGED</td>\n",
       "      <td>INAPPLICABLE</td>\n",
       "      <td>77.11</td>\n",
       "      <td>77.11</td>\n",
       "      <td>170.0</td>\n",
       "      <td>27.5 OR HIGHER (HIGHER HIGH RISK)</td>\n",
       "      <td>INAPPLICABLE</td>\n",
       "      <td>UNEMPLOYED, NOT LOOKING FOR WORK</td>\n",
       "      <td>15-19 YEARS</td>\n",
       "    </tr>\n",
       "    <tr>\n",
       "      <th>3</th>\n",
       "      <td>INAPPLICABLE</td>\n",
       "      <td>INAPPLICABLE</td>\n",
       "      <td>GOOD</td>\n",
       "      <td>INAPPLICABLE</td>\n",
       "      <td>YES</td>\n",
       "      <td>NO</td>\n",
       "      <td>NO</td>\n",
       "      <td>INAPPLICABLE</td>\n",
       "      <td>INAPPLICABLE</td>\n",
       "      <td>INAPPLICABLE</td>\n",
       "      <td>...</td>\n",
       "      <td>DOC OFFICE/HMO/KAISER</td>\n",
       "      <td>ALWAYS ENGAGED</td>\n",
       "      <td>INAPPLICABLE</td>\n",
       "      <td>49.90</td>\n",
       "      <td>49.90</td>\n",
       "      <td>110.0</td>\n",
       "      <td>18.5 - 22.99 (ACCEPTABLE RISK)</td>\n",
       "      <td>INAPPLICABLE</td>\n",
       "      <td>UNEMPLOYED, NOT LOOKING FOR WORK</td>\n",
       "      <td>INAPPLICABLE</td>\n",
       "    </tr>\n",
       "    <tr>\n",
       "      <th>4</th>\n",
       "      <td>INAPPLICABLE</td>\n",
       "      <td>YES</td>\n",
       "      <td>FAIR</td>\n",
       "      <td>INAPPLICABLE</td>\n",
       "      <td>NO</td>\n",
       "      <td>INAPPLICABLE</td>\n",
       "      <td>NO</td>\n",
       "      <td>INAPPLICABLE</td>\n",
       "      <td>INAPPLICABLE</td>\n",
       "      <td>INAPPLICABLE</td>\n",
       "      <td>...</td>\n",
       "      <td>DOC OFFICE/HMO/KAISER</td>\n",
       "      <td>INAPPLICABLE</td>\n",
       "      <td>INAPPLICABLE</td>\n",
       "      <td>104.33</td>\n",
       "      <td>104.33</td>\n",
       "      <td>230.0</td>\n",
       "      <td>27.5 OR HIGHER (HIGHER HIGH RISK)</td>\n",
       "      <td>MODERATE</td>\n",
       "      <td>FULL-TIME EMPLOYMENT (21+ HRS/WEEK)</td>\n",
       "      <td>15-19 YEARS</td>\n",
       "    </tr>\n",
       "    <tr>\n",
       "      <th>...</th>\n",
       "      <td>...</td>\n",
       "      <td>...</td>\n",
       "      <td>...</td>\n",
       "      <td>...</td>\n",
       "      <td>...</td>\n",
       "      <td>...</td>\n",
       "      <td>...</td>\n",
       "      <td>...</td>\n",
       "      <td>...</td>\n",
       "      <td>...</td>\n",
       "      <td>...</td>\n",
       "      <td>...</td>\n",
       "      <td>...</td>\n",
       "      <td>...</td>\n",
       "      <td>...</td>\n",
       "      <td>...</td>\n",
       "      <td>...</td>\n",
       "      <td>...</td>\n",
       "      <td>...</td>\n",
       "      <td>...</td>\n",
       "      <td>...</td>\n",
       "    </tr>\n",
       "    <tr>\n",
       "      <th>21944</th>\n",
       "      <td>INAPPLICABLE</td>\n",
       "      <td>INAPPLICABLE</td>\n",
       "      <td>VERY GOOD</td>\n",
       "      <td>INAPPLICABLE</td>\n",
       "      <td>NO</td>\n",
       "      <td>INAPPLICABLE</td>\n",
       "      <td>NO</td>\n",
       "      <td>INAPPLICABLE</td>\n",
       "      <td>INAPPLICABLE</td>\n",
       "      <td>INAPPLICABLE</td>\n",
       "      <td>...</td>\n",
       "      <td>COMMUN/GOV CLIN, COMMUN HOSP</td>\n",
       "      <td>SOMETIMES ENGAGED</td>\n",
       "      <td>DON’T KNOW ENOUGH ABOUT CANDIDATES/ISSUES</td>\n",
       "      <td>65.77</td>\n",
       "      <td>65.77</td>\n",
       "      <td>145.0</td>\n",
       "      <td>23.0 - 27.49 (INCREASED RISK)</td>\n",
       "      <td>MODERATE</td>\n",
       "      <td>FULL-TIME EMPLOYMENT (21+ HRS/WEEK)</td>\n",
       "      <td>INAPPLICABLE</td>\n",
       "    </tr>\n",
       "    <tr>\n",
       "      <th>21945</th>\n",
       "      <td>INAPPLICABLE</td>\n",
       "      <td>INAPPLICABLE</td>\n",
       "      <td>EXCELLENT</td>\n",
       "      <td>INAPPLICABLE</td>\n",
       "      <td>NO</td>\n",
       "      <td>INAPPLICABLE</td>\n",
       "      <td>NO</td>\n",
       "      <td>INAPPLICABLE</td>\n",
       "      <td>INAPPLICABLE</td>\n",
       "      <td>INAPPLICABLE</td>\n",
       "      <td>...</td>\n",
       "      <td>DOC OFFICE/HMO/KAISER</td>\n",
       "      <td>ALWAYS ENGAGED</td>\n",
       "      <td>INAPPLICABLE</td>\n",
       "      <td>61.69</td>\n",
       "      <td>61.69</td>\n",
       "      <td>136.0</td>\n",
       "      <td>23.0 - 27.49 (INCREASED RISK)</td>\n",
       "      <td>INAPPLICABLE</td>\n",
       "      <td>FULL-TIME EMPLOYMENT (21+ HRS/WEEK)</td>\n",
       "      <td>15-19 YEARS</td>\n",
       "    </tr>\n",
       "    <tr>\n",
       "      <th>21946</th>\n",
       "      <td>INAPPLICABLE</td>\n",
       "      <td>INAPPLICABLE</td>\n",
       "      <td>VERY GOOD</td>\n",
       "      <td>INAPPLICABLE</td>\n",
       "      <td>YES</td>\n",
       "      <td>YES</td>\n",
       "      <td>NO</td>\n",
       "      <td>INAPPLICABLE</td>\n",
       "      <td>INAPPLICABLE</td>\n",
       "      <td>INAPPLICABLE</td>\n",
       "      <td>...</td>\n",
       "      <td>DOC OFFICE/HMO/KAISER</td>\n",
       "      <td>ALWAYS ENGAGED</td>\n",
       "      <td>INAPPLICABLE</td>\n",
       "      <td>88.45</td>\n",
       "      <td>88.45</td>\n",
       "      <td>195.0</td>\n",
       "      <td>27.5 OR HIGHER (HIGHER HIGH RISK)</td>\n",
       "      <td>INAPPLICABLE</td>\n",
       "      <td>FULL-TIME EMPLOYMENT (21+ HRS/WEEK)</td>\n",
       "      <td>INAPPLICABLE</td>\n",
       "    </tr>\n",
       "    <tr>\n",
       "      <th>21947</th>\n",
       "      <td>INAPPLICABLE</td>\n",
       "      <td>INAPPLICABLE</td>\n",
       "      <td>GOOD</td>\n",
       "      <td>INAPPLICABLE</td>\n",
       "      <td>NO</td>\n",
       "      <td>INAPPLICABLE</td>\n",
       "      <td>NO</td>\n",
       "      <td>INAPPLICABLE</td>\n",
       "      <td>INAPPLICABLE</td>\n",
       "      <td>INAPPLICABLE</td>\n",
       "      <td>...</td>\n",
       "      <td>COMMUN/GOV CLIN, COMMUN HOSP</td>\n",
       "      <td>NEVER ENGAGED</td>\n",
       "      <td>DON'T LIKE OR CARE ABOUT POLITICS</td>\n",
       "      <td>65.77</td>\n",
       "      <td>65.77</td>\n",
       "      <td>145.0</td>\n",
       "      <td>18.5 - 22.99 (ACCEPTABLE RISK)</td>\n",
       "      <td>INAPPLICABLE</td>\n",
       "      <td>UNEMPLOYED, NOT LOOKING FOR WORK</td>\n",
       "      <td>INAPPLICABLE</td>\n",
       "    </tr>\n",
       "    <tr>\n",
       "      <th>21948</th>\n",
       "      <td>INAPPLICABLE</td>\n",
       "      <td>YES</td>\n",
       "      <td>VERY GOOD</td>\n",
       "      <td>INAPPLICABLE</td>\n",
       "      <td>NO</td>\n",
       "      <td>INAPPLICABLE</td>\n",
       "      <td>NO</td>\n",
       "      <td>INAPPLICABLE</td>\n",
       "      <td>INAPPLICABLE</td>\n",
       "      <td>INAPPLICABLE</td>\n",
       "      <td>...</td>\n",
       "      <td>COMMUN/GOV CLIN, COMMUN HOSP</td>\n",
       "      <td>ALWAYS ENGAGED</td>\n",
       "      <td>INAPPLICABLE</td>\n",
       "      <td>63.50</td>\n",
       "      <td>63.50</td>\n",
       "      <td>140.0</td>\n",
       "      <td>23.0 - 27.49 (INCREASED RISK)</td>\n",
       "      <td>INAPPLICABLE</td>\n",
       "      <td>UNEMPLOYED, NOT LOOKING FOR WORK</td>\n",
       "      <td>INAPPLICABLE</td>\n",
       "    </tr>\n",
       "  </tbody>\n",
       "</table>\n",
       "<p>21949 rows × 604 columns</p>\n",
       "</div>"
      ],
      "text/plain": [
       "               AA5C          AA5G        AB1         AB112 AB17          AB18  \\\n",
       "0      INAPPLICABLE  INAPPLICABLE       GOOD  INAPPLICABLE   NO  INAPPLICABLE   \n",
       "1      INAPPLICABLE  INAPPLICABLE  VERY GOOD  INAPPLICABLE   NO  INAPPLICABLE   \n",
       "2      INAPPLICABLE  INAPPLICABLE  VERY GOOD  INAPPLICABLE   NO  INAPPLICABLE   \n",
       "3      INAPPLICABLE  INAPPLICABLE       GOOD  INAPPLICABLE  YES            NO   \n",
       "4      INAPPLICABLE           YES       FAIR  INAPPLICABLE   NO  INAPPLICABLE   \n",
       "...             ...           ...        ...           ...  ...           ...   \n",
       "21944  INAPPLICABLE  INAPPLICABLE  VERY GOOD  INAPPLICABLE   NO  INAPPLICABLE   \n",
       "21945  INAPPLICABLE  INAPPLICABLE  EXCELLENT  INAPPLICABLE   NO  INAPPLICABLE   \n",
       "21946  INAPPLICABLE  INAPPLICABLE  VERY GOOD  INAPPLICABLE  YES           YES   \n",
       "21947  INAPPLICABLE  INAPPLICABLE       GOOD  INAPPLICABLE   NO  INAPPLICABLE   \n",
       "21948  INAPPLICABLE           YES  VERY GOOD  INAPPLICABLE   NO  INAPPLICABLE   \n",
       "\n",
       "      AB22V2       AB23_P1          AB24          AB25  ...  \\\n",
       "0         NO  INAPPLICABLE  INAPPLICABLE  INAPPLICABLE  ...   \n",
       "1         NO  INAPPLICABLE  INAPPLICABLE  INAPPLICABLE  ...   \n",
       "2         NO  INAPPLICABLE  INAPPLICABLE  INAPPLICABLE  ...   \n",
       "3         NO  INAPPLICABLE  INAPPLICABLE  INAPPLICABLE  ...   \n",
       "4         NO  INAPPLICABLE  INAPPLICABLE  INAPPLICABLE  ...   \n",
       "...      ...           ...           ...           ...  ...   \n",
       "21944     NO  INAPPLICABLE  INAPPLICABLE  INAPPLICABLE  ...   \n",
       "21945     NO  INAPPLICABLE  INAPPLICABLE  INAPPLICABLE  ...   \n",
       "21946     NO  INAPPLICABLE  INAPPLICABLE  INAPPLICABLE  ...   \n",
       "21947     NO  INAPPLICABLE  INAPPLICABLE  INAPPLICABLE  ...   \n",
       "21948     NO  INAPPLICABLE  INAPPLICABLE  INAPPLICABLE  ...   \n",
       "\n",
       "                           USUAL_TP          VOTE_ENG2  \\\n",
       "0             DOC OFFICE/HMO/KAISER  SOMETIMES ENGAGED   \n",
       "1             DOC OFFICE/HMO/KAISER  SOMETIMES ENGAGED   \n",
       "2             DOC OFFICE/HMO/KAISER     ALWAYS ENGAGED   \n",
       "3             DOC OFFICE/HMO/KAISER     ALWAYS ENGAGED   \n",
       "4             DOC OFFICE/HMO/KAISER       INAPPLICABLE   \n",
       "...                             ...                ...   \n",
       "21944  COMMUN/GOV CLIN, COMMUN HOSP  SOMETIMES ENGAGED   \n",
       "21945         DOC OFFICE/HMO/KAISER     ALWAYS ENGAGED   \n",
       "21946         DOC OFFICE/HMO/KAISER     ALWAYS ENGAGED   \n",
       "21947  COMMUN/GOV CLIN, COMMUN HOSP      NEVER ENGAGED   \n",
       "21948  COMMUN/GOV CLIN, COMMUN HOSP     ALWAYS ENGAGED   \n",
       "\n",
       "                                      VOTE_RSNNO WEIGHK_P WGHTK_P WGHTP_P  \\\n",
       "0               VOTING DOESN’T MAKE A DIFFERENCE    71.67   71.67   158.0   \n",
       "1                             TOO BUSY OR FORGOT    72.57   72.57   160.0   \n",
       "2                                   INAPPLICABLE    77.11   77.11   170.0   \n",
       "3                                   INAPPLICABLE    49.90   49.90   110.0   \n",
       "4                                   INAPPLICABLE   104.33  104.33   230.0   \n",
       "...                                          ...      ...     ...     ...   \n",
       "21944  DON’T KNOW ENOUGH ABOUT CANDIDATES/ISSUES    65.77   65.77   145.0   \n",
       "21945                               INAPPLICABLE    61.69   61.69   136.0   \n",
       "21946                               INAPPLICABLE    88.45   88.45   195.0   \n",
       "21947          DON'T LIKE OR CARE ABOUT POLITICS    65.77   65.77   145.0   \n",
       "21948                               INAPPLICABLE    63.50   63.50   140.0   \n",
       "\n",
       "                                  WHOBMI         WORK2  \\\n",
       "0          23.0 - 27.49 (INCREASED RISK)          NONE   \n",
       "1          23.0 - 27.49 (INCREASED RISK)  INAPPLICABLE   \n",
       "2      27.5 OR HIGHER (HIGHER HIGH RISK)  INAPPLICABLE   \n",
       "3         18.5 - 22.99 (ACCEPTABLE RISK)  INAPPLICABLE   \n",
       "4      27.5 OR HIGHER (HIGHER HIGH RISK)      MODERATE   \n",
       "...                                  ...           ...   \n",
       "21944      23.0 - 27.49 (INCREASED RISK)      MODERATE   \n",
       "21945      23.0 - 27.49 (INCREASED RISK)  INAPPLICABLE   \n",
       "21946  27.5 OR HIGHER (HIGHER HIGH RISK)  INAPPLICABLE   \n",
       "21947     18.5 - 22.99 (ACCEPTABLE RISK)  INAPPLICABLE   \n",
       "21948      23.0 - 27.49 (INCREASED RISK)  INAPPLICABLE   \n",
       "\n",
       "                                  WRKST_P1       YRUS_P1  \n",
       "0      FULL-TIME EMPLOYMENT (21+ HRS/WEEK)  INAPPLICABLE  \n",
       "1         UNEMPLOYED, NOT LOOKING FOR WORK  INAPPLICABLE  \n",
       "2         UNEMPLOYED, NOT LOOKING FOR WORK   15-19 YEARS  \n",
       "3         UNEMPLOYED, NOT LOOKING FOR WORK  INAPPLICABLE  \n",
       "4      FULL-TIME EMPLOYMENT (21+ HRS/WEEK)   15-19 YEARS  \n",
       "...                                    ...           ...  \n",
       "21944  FULL-TIME EMPLOYMENT (21+ HRS/WEEK)  INAPPLICABLE  \n",
       "21945  FULL-TIME EMPLOYMENT (21+ HRS/WEEK)   15-19 YEARS  \n",
       "21946  FULL-TIME EMPLOYMENT (21+ HRS/WEEK)  INAPPLICABLE  \n",
       "21947     UNEMPLOYED, NOT LOOKING FOR WORK  INAPPLICABLE  \n",
       "21948     UNEMPLOYED, NOT LOOKING FOR WORK  INAPPLICABLE  \n",
       "\n",
       "[21949 rows x 604 columns]"
      ]
     },
     "execution_count": 2,
     "metadata": {},
     "output_type": "execute_result"
    }
   ],
   "source": [
    "# dataframe from https://healthpolicy.ucla.edu/chis/data/Pages/public-use-data.aspx\n",
    "\n",
    "adult_df = pd.read_spss(r\"C:\\Users\\ryvo1\\Downloads\\ADULT_SPSS_PUF_2020\\SPSS\\ADULT.sav\")\n",
    "adult_df"
   ]
  },
  {
   "cell_type": "markdown",
   "id": "b9941a8d-3678-4c3c-bcb4-5de337139169",
   "metadata": {},
   "source": [
    "What do these column names mean?\n",
    "\n",
    "Download the adult SAS file from the 2020 CHIS column. Unzip it and open ADULT_LABEL.SAS.\n",
    "\n",
    "Open the three label files in jupyterlab (or at least that's what I'm using), and we see the data categories associated with the labels.\n",
    "\n",
    "#### ADULT_LABEL.SAS should look like this:"
   ]
  },
  {
   "attachments": {
    "85b9b8d2-64e5-4c86-bc5d-67d0d2d08b88.png": {
     "image/png": "[encoded data removed]"
    }
   },
   "cell_type": "markdown",
   "id": "b57b4fb5-5bac-4206-943e-d3c67fa3a53a",
   "metadata": {},
   "source": [
    "![image.png](attachment:85b9b8d2-64e5-4c86-bc5d-67d0d2d08b88.png)"
   ]
  },
  {
   "cell_type": "markdown",
   "id": "8b75e4e3-9017-4ba7-ba14-7ff0d1e73201",
   "metadata": {},
   "source": [
    "### Representing the data"
   ]
  },
  {
   "cell_type": "markdown",
   "id": "cbbc37ec-12ee-4d49-a507-b7f49d26ec64",
   "metadata": {},
   "source": [
    "We want to find correlations between one of these columns in adult_df and the DISTRESS levels of a patient (given by 'DISTRESS', which is another column in adult_df).\n",
    "\n",
    "For example, for categorical variables like \"CV1\" (Ever had or thought had COVID-19, where respondents answer yes/no), we start by getting the proportions of respondents who said \"YES\" to possessing the COVID-related trait to all respondents. Then, we aggregate each patient's answer with their distress levels. Distress levels are reported by patient on a scale of 0-24. \n",
    "\n",
    "Informally, below is a neat plotly histogram which shows the counts of COVID havers per distress level. "
   ]
  },
  {
   "cell_type": "code",
   "execution_count": 3,
   "id": "6e2a6451-eb52-4694-af51-d5a8526cca76",
   "metadata": {},
   "outputs": [
    {
     "data": {
      "text/html": [
       "<iframe\n",
       "    scrolling=\"no\"\n",
       "    width=\"620px\"\n",
       "    height=\"620\"\n",
       "    src=\"iframe_figures/figure_3.html\"\n",
       "    frameborder=\"0\"\n",
       "    allowfullscreen\n",
       "></iframe>\n"
      ]
     },
     "metadata": {},
     "output_type": "display_data"
    }
   ],
   "source": [
    "# CV1           =  \"EVER HAD OR THOUGHT HAD COVID-19\"\n",
    "# DISTRESS      =  \"SERIOUS PSYCHOLOGICAL DISTRESS\"\n",
    "\n",
    "fig = px.histogram(adult_df, \n",
    "x = \"CV1\", \n",
    "color = \"DISTRESS\", \n",
    "width = 600,\n",
    "height = 600)\n",
    "\n",
    "fig.show()"
   ]
  },
  {
   "cell_type": "markdown",
   "id": "50a04721-08f6-4f1e-a379-022e28c8e07d",
   "metadata": {},
   "source": [
    "We want to see how 'DISTRESS' is affected by possessing the COVID related trait. Here is another histogram, showing how CV1 affects distress levels."
   ]
  },
  {
   "cell_type": "code",
   "execution_count": 4,
   "id": "9b3953de-9250-4242-b662-78f9f9093f2e",
   "metadata": {},
   "outputs": [
    {
     "data": {
      "text/html": [
       "<iframe\n",
       "    scrolling=\"no\"\n",
       "    width=\"620px\"\n",
       "    height=\"620\"\n",
       "    src=\"iframe_figures/figure_4.html\"\n",
       "    frameborder=\"0\"\n",
       "    allowfullscreen\n",
       "></iframe>\n"
      ]
     },
     "metadata": {},
     "output_type": "display_data"
    }
   ],
   "source": [
    "fig = px.histogram(adult_df, \n",
    "x = \"DISTRESS\", \n",
    "color = \"CV1\", \n",
    "width = 600,\n",
    "height = 600,\n",
    "marginal = \"box\", # or violin, rug\n",
    "hover_data = adult_df.columns)\n",
    "\n",
    "fig.update_layout(barmode='overlay')\n",
    "\n",
    "fig.show()"
   ]
  },
  {
   "cell_type": "markdown",
   "id": "a1630f70-1d3e-47aa-a210-5ae14ecdf710",
   "metadata": {},
   "source": [
    "People who respond \"YES\" to CV1 (so they do have/ think they've had COVID) tend to have higher DISTRESS levels, as the box-and-whisker shows that their median DISTRESS levels and interquartile range are placed higher than those for the people who responded \"NO\" to CV1."
   ]
  },
  {
   "cell_type": "markdown",
   "id": "616fa2b8-ce59-4f1c-8f36-92407eb66cfb",
   "metadata": {},
   "source": [
    "##### Now, let's make a more specific model of how distress levels change for each instance of CV1 (thinks they had COVID, doesn't think they had COVID):"
   ]
  },
  {
   "cell_type": "code",
   "execution_count": 5,
   "id": "926b88d5-b2f9-4260-bcc1-ff85e2021297",
   "metadata": {},
   "outputs": [
    {
     "data": {
      "text/html": [
       "<div>\n",
       "<style scoped>\n",
       "    .dataframe tbody tr th:only-of-type {\n",
       "        vertical-align: middle;\n",
       "    }\n",
       "\n",
       "    .dataframe tbody tr th {\n",
       "        vertical-align: top;\n",
       "    }\n",
       "\n",
       "    .dataframe thead th {\n",
       "        text-align: right;\n",
       "    }\n",
       "</style>\n",
       "<table border=\"1\" class=\"dataframe\">\n",
       "  <thead>\n",
       "    <tr style=\"text-align: right;\">\n",
       "      <th></th>\n",
       "      <th></th>\n",
       "      <th>AA5C</th>\n",
       "    </tr>\n",
       "    <tr>\n",
       "      <th>DISTRESS</th>\n",
       "      <th>CV1</th>\n",
       "      <th></th>\n",
       "    </tr>\n",
       "  </thead>\n",
       "  <tbody>\n",
       "    <tr>\n",
       "      <th rowspan=\"2\" valign=\"top\">0.0</th>\n",
       "      <th>NO</th>\n",
       "      <td>4161</td>\n",
       "    </tr>\n",
       "    <tr>\n",
       "      <th>YES</th>\n",
       "      <td>324</td>\n",
       "    </tr>\n",
       "    <tr>\n",
       "      <th rowspan=\"2\" valign=\"top\">1.0</th>\n",
       "      <th>NO</th>\n",
       "      <td>2504</td>\n",
       "    </tr>\n",
       "    <tr>\n",
       "      <th>YES</th>\n",
       "      <td>233</td>\n",
       "    </tr>\n",
       "    <tr>\n",
       "      <th rowspan=\"2\" valign=\"top\">2.0</th>\n",
       "      <th>NO</th>\n",
       "      <td>2798</td>\n",
       "    </tr>\n",
       "    <tr>\n",
       "      <th>YES</th>\n",
       "      <td>264</td>\n",
       "    </tr>\n",
       "    <tr>\n",
       "      <th rowspan=\"2\" valign=\"top\">3.0</th>\n",
       "      <th>NO</th>\n",
       "      <td>2125</td>\n",
       "    </tr>\n",
       "    <tr>\n",
       "      <th>YES</th>\n",
       "      <td>231</td>\n",
       "    </tr>\n",
       "    <tr>\n",
       "      <th rowspan=\"2\" valign=\"top\">4.0</th>\n",
       "      <th>NO</th>\n",
       "      <td>1733</td>\n",
       "    </tr>\n",
       "    <tr>\n",
       "      <th>YES</th>\n",
       "      <td>212</td>\n",
       "    </tr>\n",
       "    <tr>\n",
       "      <th rowspan=\"2\" valign=\"top\">5.0</th>\n",
       "      <th>NO</th>\n",
       "      <td>1238</td>\n",
       "    </tr>\n",
       "    <tr>\n",
       "      <th>YES</th>\n",
       "      <td>202</td>\n",
       "    </tr>\n",
       "    <tr>\n",
       "      <th rowspan=\"2\" valign=\"top\">6.0</th>\n",
       "      <th>NO</th>\n",
       "      <td>1148</td>\n",
       "    </tr>\n",
       "    <tr>\n",
       "      <th>YES</th>\n",
       "      <td>161</td>\n",
       "    </tr>\n",
       "    <tr>\n",
       "      <th rowspan=\"2\" valign=\"top\">7.0</th>\n",
       "      <th>NO</th>\n",
       "      <td>789</td>\n",
       "    </tr>\n",
       "    <tr>\n",
       "      <th>YES</th>\n",
       "      <td>150</td>\n",
       "    </tr>\n",
       "    <tr>\n",
       "      <th rowspan=\"2\" valign=\"top\">8.0</th>\n",
       "      <th>NO</th>\n",
       "      <td>657</td>\n",
       "    </tr>\n",
       "    <tr>\n",
       "      <th>YES</th>\n",
       "      <td>124</td>\n",
       "    </tr>\n",
       "    <tr>\n",
       "      <th rowspan=\"2\" valign=\"top\">9.0</th>\n",
       "      <th>NO</th>\n",
       "      <td>532</td>\n",
       "    </tr>\n",
       "    <tr>\n",
       "      <th>YES</th>\n",
       "      <td>100</td>\n",
       "    </tr>\n",
       "    <tr>\n",
       "      <th rowspan=\"2\" valign=\"top\">10.0</th>\n",
       "      <th>NO</th>\n",
       "      <td>426</td>\n",
       "    </tr>\n",
       "    <tr>\n",
       "      <th>YES</th>\n",
       "      <td>78</td>\n",
       "    </tr>\n",
       "    <tr>\n",
       "      <th rowspan=\"2\" valign=\"top\">11.0</th>\n",
       "      <th>NO</th>\n",
       "      <td>325</td>\n",
       "    </tr>\n",
       "    <tr>\n",
       "      <th>YES</th>\n",
       "      <td>64</td>\n",
       "    </tr>\n",
       "    <tr>\n",
       "      <th rowspan=\"2\" valign=\"top\">12.0</th>\n",
       "      <th>NO</th>\n",
       "      <td>327</td>\n",
       "    </tr>\n",
       "    <tr>\n",
       "      <th>YES</th>\n",
       "      <td>62</td>\n",
       "    </tr>\n",
       "    <tr>\n",
       "      <th rowspan=\"2\" valign=\"top\">13.0</th>\n",
       "      <th>NO</th>\n",
       "      <td>209</td>\n",
       "    </tr>\n",
       "    <tr>\n",
       "      <th>YES</th>\n",
       "      <td>39</td>\n",
       "    </tr>\n",
       "    <tr>\n",
       "      <th rowspan=\"2\" valign=\"top\">14.0</th>\n",
       "      <th>NO</th>\n",
       "      <td>166</td>\n",
       "    </tr>\n",
       "    <tr>\n",
       "      <th>YES</th>\n",
       "      <td>26</td>\n",
       "    </tr>\n",
       "    <tr>\n",
       "      <th rowspan=\"2\" valign=\"top\">15.0</th>\n",
       "      <th>NO</th>\n",
       "      <td>110</td>\n",
       "    </tr>\n",
       "    <tr>\n",
       "      <th>YES</th>\n",
       "      <td>25</td>\n",
       "    </tr>\n",
       "    <tr>\n",
       "      <th rowspan=\"2\" valign=\"top\">16.0</th>\n",
       "      <th>NO</th>\n",
       "      <td>84</td>\n",
       "    </tr>\n",
       "    <tr>\n",
       "      <th>YES</th>\n",
       "      <td>19</td>\n",
       "    </tr>\n",
       "    <tr>\n",
       "      <th rowspan=\"2\" valign=\"top\">17.0</th>\n",
       "      <th>NO</th>\n",
       "      <td>70</td>\n",
       "    </tr>\n",
       "    <tr>\n",
       "      <th>YES</th>\n",
       "      <td>14</td>\n",
       "    </tr>\n",
       "    <tr>\n",
       "      <th rowspan=\"2\" valign=\"top\">18.0</th>\n",
       "      <th>NO</th>\n",
       "      <td>68</td>\n",
       "    </tr>\n",
       "    <tr>\n",
       "      <th>YES</th>\n",
       "      <td>18</td>\n",
       "    </tr>\n",
       "    <tr>\n",
       "      <th rowspan=\"2\" valign=\"top\">19.0</th>\n",
       "      <th>NO</th>\n",
       "      <td>33</td>\n",
       "    </tr>\n",
       "    <tr>\n",
       "      <th>YES</th>\n",
       "      <td>7</td>\n",
       "    </tr>\n",
       "    <tr>\n",
       "      <th rowspan=\"2\" valign=\"top\">20.0</th>\n",
       "      <th>NO</th>\n",
       "      <td>16</td>\n",
       "    </tr>\n",
       "    <tr>\n",
       "      <th>YES</th>\n",
       "      <td>4</td>\n",
       "    </tr>\n",
       "    <tr>\n",
       "      <th rowspan=\"2\" valign=\"top\">21.0</th>\n",
       "      <th>NO</th>\n",
       "      <td>23</td>\n",
       "    </tr>\n",
       "    <tr>\n",
       "      <th>YES</th>\n",
       "      <td>6</td>\n",
       "    </tr>\n",
       "    <tr>\n",
       "      <th rowspan=\"2\" valign=\"top\">22.0</th>\n",
       "      <th>NO</th>\n",
       "      <td>2</td>\n",
       "    </tr>\n",
       "    <tr>\n",
       "      <th>YES</th>\n",
       "      <td>2</td>\n",
       "    </tr>\n",
       "    <tr>\n",
       "      <th rowspan=\"2\" valign=\"top\">23.0</th>\n",
       "      <th>NO</th>\n",
       "      <td>5</td>\n",
       "    </tr>\n",
       "    <tr>\n",
       "      <th>YES</th>\n",
       "      <td>2</td>\n",
       "    </tr>\n",
       "    <tr>\n",
       "      <th rowspan=\"2\" valign=\"top\">24.0</th>\n",
       "      <th>NO</th>\n",
       "      <td>23</td>\n",
       "    </tr>\n",
       "    <tr>\n",
       "      <th>YES</th>\n",
       "      <td>5</td>\n",
       "    </tr>\n",
       "    <tr>\n",
       "      <th rowspan=\"2\" valign=\"top\">PROXY SKIPPED</th>\n",
       "      <th>NO</th>\n",
       "      <td>4</td>\n",
       "    </tr>\n",
       "    <tr>\n",
       "      <th>YES</th>\n",
       "      <td>1</td>\n",
       "    </tr>\n",
       "  </tbody>\n",
       "</table>\n",
       "</div>"
      ],
      "text/plain": [
       "                   AA5C\n",
       "DISTRESS      CV1      \n",
       "0.0           NO   4161\n",
       "              YES   324\n",
       "1.0           NO   2504\n",
       "              YES   233\n",
       "2.0           NO   2798\n",
       "              YES   264\n",
       "3.0           NO   2125\n",
       "              YES   231\n",
       "4.0           NO   1733\n",
       "              YES   212\n",
       "5.0           NO   1238\n",
       "              YES   202\n",
       "6.0           NO   1148\n",
       "              YES   161\n",
       "7.0           NO    789\n",
       "              YES   150\n",
       "8.0           NO    657\n",
       "              YES   124\n",
       "9.0           NO    532\n",
       "              YES   100\n",
       "10.0          NO    426\n",
       "              YES    78\n",
       "11.0          NO    325\n",
       "              YES    64\n",
       "12.0          NO    327\n",
       "              YES    62\n",
       "13.0          NO    209\n",
       "              YES    39\n",
       "14.0          NO    166\n",
       "              YES    26\n",
       "15.0          NO    110\n",
       "              YES    25\n",
       "16.0          NO     84\n",
       "              YES    19\n",
       "17.0          NO     70\n",
       "              YES    14\n",
       "18.0          NO     68\n",
       "              YES    18\n",
       "19.0          NO     33\n",
       "              YES     7\n",
       "20.0          NO     16\n",
       "              YES     4\n",
       "21.0          NO     23\n",
       "              YES     6\n",
       "22.0          NO      2\n",
       "              YES     2\n",
       "23.0          NO      5\n",
       "              YES     2\n",
       "24.0          NO     23\n",
       "              YES     5\n",
       "PROXY SKIPPED NO      4\n",
       "              YES     1"
      ]
     },
     "execution_count": 5,
     "metadata": {},
     "output_type": "execute_result"
    }
   ],
   "source": [
    "work = adult_df.groupby(['DISTRESS', 'CV1']).count()\n",
    "work[['AA5C']]"
   ]
  },
  {
   "cell_type": "code",
   "execution_count": 6,
   "id": "8d7628ff-e967-4270-a533-d492b9d2a29d",
   "metadata": {},
   "outputs": [
    {
     "data": {
      "text/html": [
       "<div>\n",
       "<style scoped>\n",
       "    .dataframe tbody tr th:only-of-type {\n",
       "        vertical-align: middle;\n",
       "    }\n",
       "\n",
       "    .dataframe tbody tr th {\n",
       "        vertical-align: top;\n",
       "    }\n",
       "\n",
       "    .dataframe thead th {\n",
       "        text-align: right;\n",
       "    }\n",
       "</style>\n",
       "<table border=\"1\" class=\"dataframe\">\n",
       "  <thead>\n",
       "    <tr style=\"text-align: right;\">\n",
       "      <th></th>\n",
       "      <th></th>\n",
       "      <th>AA5C</th>\n",
       "    </tr>\n",
       "    <tr>\n",
       "      <th>DISTRESS</th>\n",
       "      <th>CV1</th>\n",
       "      <th></th>\n",
       "    </tr>\n",
       "  </thead>\n",
       "  <tbody>\n",
       "    <tr>\n",
       "      <th rowspan=\"2\" valign=\"top\">0.0</th>\n",
       "      <th>NO</th>\n",
       "      <td>0.927759</td>\n",
       "    </tr>\n",
       "    <tr>\n",
       "      <th>YES</th>\n",
       "      <td>0.072241</td>\n",
       "    </tr>\n",
       "    <tr>\n",
       "      <th rowspan=\"2\" valign=\"top\">1.0</th>\n",
       "      <th>NO</th>\n",
       "      <td>0.914870</td>\n",
       "    </tr>\n",
       "    <tr>\n",
       "      <th>YES</th>\n",
       "      <td>0.085130</td>\n",
       "    </tr>\n",
       "    <tr>\n",
       "      <th rowspan=\"2\" valign=\"top\">2.0</th>\n",
       "      <th>NO</th>\n",
       "      <td>0.913782</td>\n",
       "    </tr>\n",
       "    <tr>\n",
       "      <th>YES</th>\n",
       "      <td>0.086218</td>\n",
       "    </tr>\n",
       "    <tr>\n",
       "      <th rowspan=\"2\" valign=\"top\">3.0</th>\n",
       "      <th>NO</th>\n",
       "      <td>0.901952</td>\n",
       "    </tr>\n",
       "    <tr>\n",
       "      <th>YES</th>\n",
       "      <td>0.098048</td>\n",
       "    </tr>\n",
       "    <tr>\n",
       "      <th rowspan=\"2\" valign=\"top\">4.0</th>\n",
       "      <th>NO</th>\n",
       "      <td>0.891003</td>\n",
       "    </tr>\n",
       "    <tr>\n",
       "      <th>YES</th>\n",
       "      <td>0.108997</td>\n",
       "    </tr>\n",
       "    <tr>\n",
       "      <th rowspan=\"2\" valign=\"top\">5.0</th>\n",
       "      <th>NO</th>\n",
       "      <td>0.859722</td>\n",
       "    </tr>\n",
       "    <tr>\n",
       "      <th>YES</th>\n",
       "      <td>0.140278</td>\n",
       "    </tr>\n",
       "    <tr>\n",
       "      <th rowspan=\"2\" valign=\"top\">6.0</th>\n",
       "      <th>NO</th>\n",
       "      <td>0.877005</td>\n",
       "    </tr>\n",
       "    <tr>\n",
       "      <th>YES</th>\n",
       "      <td>0.122995</td>\n",
       "    </tr>\n",
       "    <tr>\n",
       "      <th rowspan=\"2\" valign=\"top\">7.0</th>\n",
       "      <th>NO</th>\n",
       "      <td>0.840256</td>\n",
       "    </tr>\n",
       "    <tr>\n",
       "      <th>YES</th>\n",
       "      <td>0.159744</td>\n",
       "    </tr>\n",
       "    <tr>\n",
       "      <th rowspan=\"2\" valign=\"top\">8.0</th>\n",
       "      <th>NO</th>\n",
       "      <td>0.841229</td>\n",
       "    </tr>\n",
       "    <tr>\n",
       "      <th>YES</th>\n",
       "      <td>0.158771</td>\n",
       "    </tr>\n",
       "    <tr>\n",
       "      <th rowspan=\"2\" valign=\"top\">9.0</th>\n",
       "      <th>NO</th>\n",
       "      <td>0.841772</td>\n",
       "    </tr>\n",
       "    <tr>\n",
       "      <th>YES</th>\n",
       "      <td>0.158228</td>\n",
       "    </tr>\n",
       "    <tr>\n",
       "      <th rowspan=\"2\" valign=\"top\">10.0</th>\n",
       "      <th>NO</th>\n",
       "      <td>0.845238</td>\n",
       "    </tr>\n",
       "    <tr>\n",
       "      <th>YES</th>\n",
       "      <td>0.154762</td>\n",
       "    </tr>\n",
       "    <tr>\n",
       "      <th rowspan=\"2\" valign=\"top\">11.0</th>\n",
       "      <th>NO</th>\n",
       "      <td>0.835476</td>\n",
       "    </tr>\n",
       "    <tr>\n",
       "      <th>YES</th>\n",
       "      <td>0.164524</td>\n",
       "    </tr>\n",
       "    <tr>\n",
       "      <th rowspan=\"2\" valign=\"top\">12.0</th>\n",
       "      <th>NO</th>\n",
       "      <td>0.840617</td>\n",
       "    </tr>\n",
       "    <tr>\n",
       "      <th>YES</th>\n",
       "      <td>0.159383</td>\n",
       "    </tr>\n",
       "    <tr>\n",
       "      <th rowspan=\"2\" valign=\"top\">13.0</th>\n",
       "      <th>NO</th>\n",
       "      <td>0.842742</td>\n",
       "    </tr>\n",
       "    <tr>\n",
       "      <th>YES</th>\n",
       "      <td>0.157258</td>\n",
       "    </tr>\n",
       "    <tr>\n",
       "      <th rowspan=\"2\" valign=\"top\">14.0</th>\n",
       "      <th>NO</th>\n",
       "      <td>0.864583</td>\n",
       "    </tr>\n",
       "    <tr>\n",
       "      <th>YES</th>\n",
       "      <td>0.135417</td>\n",
       "    </tr>\n",
       "    <tr>\n",
       "      <th rowspan=\"2\" valign=\"top\">15.0</th>\n",
       "      <th>NO</th>\n",
       "      <td>0.814815</td>\n",
       "    </tr>\n",
       "    <tr>\n",
       "      <th>YES</th>\n",
       "      <td>0.185185</td>\n",
       "    </tr>\n",
       "    <tr>\n",
       "      <th rowspan=\"2\" valign=\"top\">16.0</th>\n",
       "      <th>NO</th>\n",
       "      <td>0.815534</td>\n",
       "    </tr>\n",
       "    <tr>\n",
       "      <th>YES</th>\n",
       "      <td>0.184466</td>\n",
       "    </tr>\n",
       "    <tr>\n",
       "      <th rowspan=\"2\" valign=\"top\">17.0</th>\n",
       "      <th>NO</th>\n",
       "      <td>0.833333</td>\n",
       "    </tr>\n",
       "    <tr>\n",
       "      <th>YES</th>\n",
       "      <td>0.166667</td>\n",
       "    </tr>\n",
       "    <tr>\n",
       "      <th rowspan=\"2\" valign=\"top\">18.0</th>\n",
       "      <th>NO</th>\n",
       "      <td>0.790698</td>\n",
       "    </tr>\n",
       "    <tr>\n",
       "      <th>YES</th>\n",
       "      <td>0.209302</td>\n",
       "    </tr>\n",
       "    <tr>\n",
       "      <th rowspan=\"2\" valign=\"top\">19.0</th>\n",
       "      <th>NO</th>\n",
       "      <td>0.825000</td>\n",
       "    </tr>\n",
       "    <tr>\n",
       "      <th>YES</th>\n",
       "      <td>0.175000</td>\n",
       "    </tr>\n",
       "    <tr>\n",
       "      <th rowspan=\"2\" valign=\"top\">20.0</th>\n",
       "      <th>NO</th>\n",
       "      <td>0.800000</td>\n",
       "    </tr>\n",
       "    <tr>\n",
       "      <th>YES</th>\n",
       "      <td>0.200000</td>\n",
       "    </tr>\n",
       "    <tr>\n",
       "      <th rowspan=\"2\" valign=\"top\">21.0</th>\n",
       "      <th>NO</th>\n",
       "      <td>0.793103</td>\n",
       "    </tr>\n",
       "    <tr>\n",
       "      <th>YES</th>\n",
       "      <td>0.206897</td>\n",
       "    </tr>\n",
       "    <tr>\n",
       "      <th rowspan=\"2\" valign=\"top\">22.0</th>\n",
       "      <th>NO</th>\n",
       "      <td>0.500000</td>\n",
       "    </tr>\n",
       "    <tr>\n",
       "      <th>YES</th>\n",
       "      <td>0.500000</td>\n",
       "    </tr>\n",
       "    <tr>\n",
       "      <th rowspan=\"2\" valign=\"top\">23.0</th>\n",
       "      <th>NO</th>\n",
       "      <td>0.714286</td>\n",
       "    </tr>\n",
       "    <tr>\n",
       "      <th>YES</th>\n",
       "      <td>0.285714</td>\n",
       "    </tr>\n",
       "    <tr>\n",
       "      <th rowspan=\"2\" valign=\"top\">24.0</th>\n",
       "      <th>NO</th>\n",
       "      <td>0.821429</td>\n",
       "    </tr>\n",
       "    <tr>\n",
       "      <th>YES</th>\n",
       "      <td>0.178571</td>\n",
       "    </tr>\n",
       "    <tr>\n",
       "      <th rowspan=\"2\" valign=\"top\">PROXY SKIPPED</th>\n",
       "      <th>NO</th>\n",
       "      <td>0.800000</td>\n",
       "    </tr>\n",
       "    <tr>\n",
       "      <th>YES</th>\n",
       "      <td>0.200000</td>\n",
       "    </tr>\n",
       "  </tbody>\n",
       "</table>\n",
       "</div>"
      ],
      "text/plain": [
       "                       AA5C\n",
       "DISTRESS      CV1          \n",
       "0.0           NO   0.927759\n",
       "              YES  0.072241\n",
       "1.0           NO   0.914870\n",
       "              YES  0.085130\n",
       "2.0           NO   0.913782\n",
       "              YES  0.086218\n",
       "3.0           NO   0.901952\n",
       "              YES  0.098048\n",
       "4.0           NO   0.891003\n",
       "              YES  0.108997\n",
       "5.0           NO   0.859722\n",
       "              YES  0.140278\n",
       "6.0           NO   0.877005\n",
       "              YES  0.122995\n",
       "7.0           NO   0.840256\n",
       "              YES  0.159744\n",
       "8.0           NO   0.841229\n",
       "              YES  0.158771\n",
       "9.0           NO   0.841772\n",
       "              YES  0.158228\n",
       "10.0          NO   0.845238\n",
       "              YES  0.154762\n",
       "11.0          NO   0.835476\n",
       "              YES  0.164524\n",
       "12.0          NO   0.840617\n",
       "              YES  0.159383\n",
       "13.0          NO   0.842742\n",
       "              YES  0.157258\n",
       "14.0          NO   0.864583\n",
       "              YES  0.135417\n",
       "15.0          NO   0.814815\n",
       "              YES  0.185185\n",
       "16.0          NO   0.815534\n",
       "              YES  0.184466\n",
       "17.0          NO   0.833333\n",
       "              YES  0.166667\n",
       "18.0          NO   0.790698\n",
       "              YES  0.209302\n",
       "19.0          NO   0.825000\n",
       "              YES  0.175000\n",
       "20.0          NO   0.800000\n",
       "              YES  0.200000\n",
       "21.0          NO   0.793103\n",
       "              YES  0.206897\n",
       "22.0          NO   0.500000\n",
       "              YES  0.500000\n",
       "23.0          NO   0.714286\n",
       "              YES  0.285714\n",
       "24.0          NO   0.821429\n",
       "              YES  0.178571\n",
       "PROXY SKIPPED NO   0.800000\n",
       "              YES  0.200000"
      ]
     },
     "execution_count": 6,
     "metadata": {},
     "output_type": "execute_result"
    }
   ],
   "source": [
    "work.reset_index()\n",
    "lol = work.groupby(['DISTRESS']).sum()\n",
    "lol[['AA5C']]\n",
    "\n",
    "wow = work / lol\n",
    "wow[['AA5C']]\n",
    "\n",
    "# proportions:"
   ]
  },
  {
   "cell_type": "markdown",
   "id": "80324713-9d9c-44eb-a9d8-840d53f040b6",
   "metadata": {
    "tags": []
   },
   "source": [
    "# Variables to measure:"
   ]
  },
  {
   "cell_type": "raw",
   "id": "992042d5-9d82-40d6-a3c9-8af9052a9841",
   "metadata": {},
   "source": [
    "I wanted to measure \n",
    "\n",
    "DISTRESS      =  \"SERIOUS PSYCHOLOGICAL DISTRESS\"\n",
    "\n",
    "against:\n",
    "\n",
    "CV7_1         =  \"EVER EXPERIENCED DUE TO COVID-19 OUTBREAK: LOST JOB\"\n",
    "CV7_10        =  \"EVER EXPERIENCED DUE TO COVID-19 OUTBREAK: NONE OF THESE\"\n",
    "CV7_11        =  \"EVER EXPERIENCED DUE TO COVID-19 OUTBREAK: INCREASED MENTAL HEALTH CHALLENGES\"\n",
    "CV7_2         =  \"EVER EXPERIENCED DUE TO COVID-19 OUTBREAK: REDUCED JOB HOURS OR INCOME\"\n",
    "CV7_3         =  \"EVER EXPERIENCED DUE TO COVID-19 OUTBREAK: WORKING FROM HOME\"\n",
    "CV7_4         =  \"EVER EXPERIENCED DUE TO COVID-19 OUTBREAK: CONTINUED WORK AS AN ESSENTIAL WORKER\"\n",
    "CV7_5         =  \"EVER EXPERIENCED DUE TO COVID-19 OUTBREAK: CHILDCARE DIFFICULTIES\"\n",
    "CV7_6         =  \"EVER EXPERIENCED DUE TO COVID-19 OUTBREAK: DIFFICULTIES PAYING RENT/MORTGAGE\"\n",
    "CV7_7         =  \"EVER EXPERIENCED DUE TO COVID-19 OUTBREAK: DIFFICULTIES PAYING FOR BASIC NECESSITIES\"\n",
    "CV7_8         =  \"EVER EXPERIENCED DUE TO COVID-19 OUTBREAK: TREATED UNFAIRLY DUE TO RACE/ETHNICITY\"\n",
    "CV7_9         =  \"EVER EXPERIENCED DUE TO COVID-19 OUTBREAK: OTHER\"\n",
    "CV8_1         =  \"INCREASE IN HH DURING COVID STAY-AT-HOME ORDER: INTERPERSONAL CONFLICT\"\n",
    "CV8_2         =  \"INCREASE IN HH DURING COVID STAY-AT-HOME ORDER: SNAPPING/YELLING\"\n",
    "CV8_4         =  \"INCREASE IN HH DURING COVID STAY-AT-HOME ORDER: NONE OF THESE\"\n",
    "\n",
    "and see which factor is the most/least impactful. To do this, we will be doing..."
   ]
  },
  {
   "cell_type": "markdown",
   "id": "73d08c4e-06a2-466f-bc2b-3e83d5c5bdd4",
   "metadata": {},
   "source": [
    "# Linear Regression"
   ]
  },
  {
   "cell_type": "markdown",
   "id": "1c875aaf-468a-4262-a660-637b3465c116",
   "metadata": {},
   "source": [
    "using Linear Regression from scikit learn.\n",
    "\n",
    "WANT: X = 'DISTRESS' values (0, 1, ..., 24), Y = proportion of 'YES' for a variable (like CV1) to all respondents per distress level."
   ]
  },
  {
   "cell_type": "markdown",
   "id": "3607304d-9900-4431-a41f-c3e158d6799e",
   "metadata": {},
   "source": [
    "### Getting 'DISTRESS' values:"
   ]
  },
  {
   "cell_type": "code",
   "execution_count": 7,
   "id": "9364ef46-1c8a-4c97-b80f-aa1a34e924b3",
   "metadata": {},
   "outputs": [],
   "source": [
    "woah = adult_df[\"DISTRESS\"].sort_values()\n",
    "sick = woah.unique()\n",
    "sick\n",
    "\n",
    "# Prepares 'DISTRESS' to be graphed later\n",
    "bang = sick\n",
    "bang = bang.reshape(-1,1)"
   ]
  },
  {
   "cell_type": "markdown",
   "id": "92c17ffe-823d-4250-b26f-474c7cbc89d1",
   "metadata": {},
   "source": [
    "### Getting values for comparison (Doing 'CV1' for example):"
   ]
  },
  {
   "cell_type": "markdown",
   "id": "c592b109-9f78-4ecc-9f52-91cbdd667065",
   "metadata": {},
   "source": [
    "First, get total values per distress value ('YES' + 'NO'):"
   ]
  },
  {
   "cell_type": "code",
   "execution_count": 8,
   "id": "8232e7e5-52fc-493b-b053-480f07c6aa69",
   "metadata": {},
   "outputs": [],
   "source": [
    "work = adult_df.groupby(['DISTRESS', 'CV1']).count()\n",
    "totals = work.groupby(['DISTRESS']).sum()"
   ]
  },
  {
   "cell_type": "markdown",
   "id": "0a2b05ea-5c4f-4f43-960e-a840f213821b",
   "metadata": {},
   "source": [
    "Now, get each 'YES' count per 'DISTRESS' (324, 233, ...):"
   ]
  },
  {
   "cell_type": "code",
   "execution_count": 9,
   "id": "7ba3d23c-f04c-4e35-9818-e22ebf3136bf",
   "metadata": {},
   "outputs": [
    {
     "data": {
      "text/html": [
       "<div>\n",
       "<style scoped>\n",
       "    .dataframe tbody tr th:only-of-type {\n",
       "        vertical-align: middle;\n",
       "    }\n",
       "\n",
       "    .dataframe tbody tr th {\n",
       "        vertical-align: top;\n",
       "    }\n",
       "\n",
       "    .dataframe thead th {\n",
       "        text-align: right;\n",
       "    }\n",
       "</style>\n",
       "<table border=\"1\" class=\"dataframe\">\n",
       "  <thead>\n",
       "    <tr style=\"text-align: right;\">\n",
       "      <th></th>\n",
       "      <th>AA5C</th>\n",
       "    </tr>\n",
       "    <tr>\n",
       "      <th>DISTRESS</th>\n",
       "      <th></th>\n",
       "    </tr>\n",
       "  </thead>\n",
       "  <tbody>\n",
       "    <tr>\n",
       "      <th>0.0</th>\n",
       "      <td>4485</td>\n",
       "    </tr>\n",
       "    <tr>\n",
       "      <th>1.0</th>\n",
       "      <td>2737</td>\n",
       "    </tr>\n",
       "    <tr>\n",
       "      <th>2.0</th>\n",
       "      <td>3062</td>\n",
       "    </tr>\n",
       "    <tr>\n",
       "      <th>3.0</th>\n",
       "      <td>2356</td>\n",
       "    </tr>\n",
       "    <tr>\n",
       "      <th>4.0</th>\n",
       "      <td>1945</td>\n",
       "    </tr>\n",
       "    <tr>\n",
       "      <th>5.0</th>\n",
       "      <td>1440</td>\n",
       "    </tr>\n",
       "    <tr>\n",
       "      <th>6.0</th>\n",
       "      <td>1309</td>\n",
       "    </tr>\n",
       "    <tr>\n",
       "      <th>7.0</th>\n",
       "      <td>939</td>\n",
       "    </tr>\n",
       "    <tr>\n",
       "      <th>8.0</th>\n",
       "      <td>781</td>\n",
       "    </tr>\n",
       "    <tr>\n",
       "      <th>9.0</th>\n",
       "      <td>632</td>\n",
       "    </tr>\n",
       "    <tr>\n",
       "      <th>10.0</th>\n",
       "      <td>504</td>\n",
       "    </tr>\n",
       "    <tr>\n",
       "      <th>11.0</th>\n",
       "      <td>389</td>\n",
       "    </tr>\n",
       "    <tr>\n",
       "      <th>12.0</th>\n",
       "      <td>389</td>\n",
       "    </tr>\n",
       "    <tr>\n",
       "      <th>13.0</th>\n",
       "      <td>248</td>\n",
       "    </tr>\n",
       "    <tr>\n",
       "      <th>14.0</th>\n",
       "      <td>192</td>\n",
       "    </tr>\n",
       "    <tr>\n",
       "      <th>15.0</th>\n",
       "      <td>135</td>\n",
       "    </tr>\n",
       "    <tr>\n",
       "      <th>16.0</th>\n",
       "      <td>103</td>\n",
       "    </tr>\n",
       "    <tr>\n",
       "      <th>17.0</th>\n",
       "      <td>84</td>\n",
       "    </tr>\n",
       "    <tr>\n",
       "      <th>18.0</th>\n",
       "      <td>86</td>\n",
       "    </tr>\n",
       "    <tr>\n",
       "      <th>19.0</th>\n",
       "      <td>40</td>\n",
       "    </tr>\n",
       "    <tr>\n",
       "      <th>20.0</th>\n",
       "      <td>20</td>\n",
       "    </tr>\n",
       "    <tr>\n",
       "      <th>21.0</th>\n",
       "      <td>29</td>\n",
       "    </tr>\n",
       "    <tr>\n",
       "      <th>22.0</th>\n",
       "      <td>4</td>\n",
       "    </tr>\n",
       "    <tr>\n",
       "      <th>23.0</th>\n",
       "      <td>7</td>\n",
       "    </tr>\n",
       "    <tr>\n",
       "      <th>24.0</th>\n",
       "      <td>28</td>\n",
       "    </tr>\n",
       "    <tr>\n",
       "      <th>PROXY SKIPPED</th>\n",
       "      <td>5</td>\n",
       "    </tr>\n",
       "  </tbody>\n",
       "</table>\n",
       "</div>"
      ],
      "text/plain": [
       "               AA5C\n",
       "DISTRESS           \n",
       "0.0            4485\n",
       "1.0            2737\n",
       "2.0            3062\n",
       "3.0            2356\n",
       "4.0            1945\n",
       "5.0            1440\n",
       "6.0            1309\n",
       "7.0             939\n",
       "8.0             781\n",
       "9.0             632\n",
       "10.0            504\n",
       "11.0            389\n",
       "12.0            389\n",
       "13.0            248\n",
       "14.0            192\n",
       "15.0            135\n",
       "16.0            103\n",
       "17.0             84\n",
       "18.0             86\n",
       "19.0             40\n",
       "20.0             20\n",
       "21.0             29\n",
       "22.0              4\n",
       "23.0              7\n",
       "24.0             28\n",
       "PROXY SKIPPED     5"
      ]
     },
     "execution_count": 9,
     "metadata": {},
     "output_type": "execute_result"
    }
   ],
   "source": [
    "work = adult_df.groupby(['DISTRESS', 'CV1']).count()\n",
    "totals = work.groupby(['DISTRESS']).sum()\n",
    "totals[['AA5C']]"
   ]
  },
  {
   "cell_type": "code",
   "execution_count": 10,
   "id": "6155a213-1dcb-4c1e-8aad-768eb0787091",
   "metadata": {},
   "outputs": [
    {
     "data": {
      "text/plain": [
       "1     0.072241\n",
       "3     0.085130\n",
       "5     0.086218\n",
       "7     0.098048\n",
       "9     0.108997\n",
       "11    0.140278\n",
       "13    0.122995\n",
       "15    0.159744\n",
       "17    0.158771\n",
       "19    0.158228\n",
       "21    0.154762\n",
       "23    0.164524\n",
       "25    0.159383\n",
       "27    0.157258\n",
       "29    0.135417\n",
       "31    0.185185\n",
       "33    0.184466\n",
       "35    0.166667\n",
       "37    0.209302\n",
       "39    0.175000\n",
       "41    0.200000\n",
       "43    0.206897\n",
       "45    0.500000\n",
       "47    0.285714\n",
       "49    0.178571\n",
       "51    0.200000\n",
       "Name: AA5C, dtype: float64"
      ]
     },
     "execution_count": 10,
     "metadata": {},
     "output_type": "execute_result"
    }
   ],
   "source": [
    "props = work / totals\n",
    "props = props.reset_index()\n",
    "finalprops = props[props['CV1'] == \"YES\"]['AA5C']\n",
    "finalprops"
   ]
  },
  {
   "cell_type": "markdown",
   "id": "1da290af-fb21-4d38-b2e6-3b8afbd9db52",
   "metadata": {},
   "source": [
    "##### Linear Regression part:"
   ]
  },
  {
   "cell_type": "code",
   "execution_count": 11,
   "id": "61a39d8d-6984-4b73-afb6-438f7177f2f1",
   "metadata": {},
   "outputs": [],
   "source": [
    "bing = finalprops.values\n",
    "bing = bing.reshape(-1,1)\n",
    "bang = sick\n",
    "bang = bang.reshape(-1,1)"
   ]
  },
  {
   "cell_type": "code",
   "execution_count": 12,
   "id": "222fc0eb-a492-4ff2-bc30-e04233c6c86e",
   "metadata": {},
   "outputs": [
    {
     "data": {
      "text/plain": [
       "array([[0.0722408 ],\n",
       "       [0.0851297 ],\n",
       "       [0.08621816],\n",
       "       [0.09804754],\n",
       "       [0.10899743],\n",
       "       [0.14027778],\n",
       "       [0.12299465],\n",
       "       [0.15974441],\n",
       "       [0.15877081],\n",
       "       [0.15822785],\n",
       "       [0.1547619 ],\n",
       "       [0.16452442],\n",
       "       [0.15938303],\n",
       "       [0.15725806],\n",
       "       [0.13541667],\n",
       "       [0.18518519],\n",
       "       [0.18446602],\n",
       "       [0.16666667],\n",
       "       [0.20930233],\n",
       "       [0.175     ],\n",
       "       [0.2       ],\n",
       "       [0.20689655],\n",
       "       [0.5       ],\n",
       "       [0.28571429],\n",
       "       [0.17857143],\n",
       "       [0.2       ]])"
      ]
     },
     "execution_count": 12,
     "metadata": {},
     "output_type": "execute_result"
    }
   ],
   "source": [
    "bing"
   ]
  },
  {
   "cell_type": "code",
   "execution_count": 13,
   "id": "9570fa17-0175-41ff-8174-c0839af65657",
   "metadata": {},
   "outputs": [
    {
     "data": {
      "text/plain": [
       "[[0.0], [1.0], [2.0], [3.0], [4.0], ..., [21.0], [22.0], [23.0], [24.0], ['PROXY SKIPPED']]\n",
       "Length: 26\n",
       "Categories (26, object): [0.0, 1.0, 2.0, 3.0, ..., 22.0, 23.0, 24.0, 'PROXY SKIPPED']"
      ]
     },
     "execution_count": 13,
     "metadata": {},
     "output_type": "execute_result"
    }
   ],
   "source": [
    "bang"
   ]
  },
  {
   "cell_type": "markdown",
   "id": "2f6c11d9-1708-44a9-af5e-8db3bf80b974",
   "metadata": {},
   "source": [
    "We don't really care about 'PROXY SKIPPED' and its value bing[25], so we'll remove them both to work with the data:"
   ]
  },
  {
   "cell_type": "code",
   "execution_count": 14,
   "id": "bd59a6f0-85b0-437a-8a74-3f2a51dabf40",
   "metadata": {},
   "outputs": [],
   "source": [
    "X = np.delete(bing, 25)\n",
    "Y = np.delete(bang, 25)"
   ]
  },
  {
   "cell_type": "code",
   "execution_count": 15,
   "id": "d5a15cbe-c0cd-44aa-bc79-1f80285f8985",
   "metadata": {},
   "outputs": [
    {
     "data": {
      "text/plain": [
       "array([0.0722408 , 0.0851297 , 0.08621816, 0.09804754, 0.10899743,\n",
       "       0.14027778, 0.12299465, 0.15974441, 0.15877081, 0.15822785,\n",
       "       0.1547619 , 0.16452442, 0.15938303, 0.15725806, 0.13541667,\n",
       "       0.18518519, 0.18446602, 0.16666667, 0.20930233, 0.175     ,\n",
       "       0.2       , 0.20689655, 0.5       , 0.28571429, 0.17857143])"
      ]
     },
     "execution_count": 15,
     "metadata": {},
     "output_type": "execute_result"
    }
   ],
   "source": [
    "X"
   ]
  },
  {
   "cell_type": "code",
   "execution_count": 16,
   "id": "3b79ee6f-4af3-405d-aa07-53988e439a55",
   "metadata": {},
   "outputs": [
    {
     "data": {
      "text/plain": [
       "array([0.0, 1.0, 2.0, 3.0, 4.0, 5.0, 6.0, 7.0, 8.0, 9.0, 10.0, 11.0, 12.0,\n",
       "       13.0, 14.0, 15.0, 16.0, 17.0, 18.0, 19.0, 20.0, 21.0, 22.0, 23.0,\n",
       "       24.0], dtype=object)"
      ]
     },
     "execution_count": 16,
     "metadata": {},
     "output_type": "execute_result"
    }
   ],
   "source": [
    "Y"
   ]
  },
  {
   "cell_type": "markdown",
   "id": "de0c26e3-e20e-4c60-99c5-a28a913161d5",
   "metadata": {},
   "source": [
    "Finally, we gotta shape it so it works with LinearRegression().fit:"
   ]
  },
  {
   "cell_type": "code",
   "execution_count": 17,
   "id": "93e2cbd4-5c64-45bf-bd9d-68b250513a26",
   "metadata": {},
   "outputs": [],
   "source": [
    "X = X.reshape(-1,1)\n",
    "Y = Y.reshape(-1,1)"
   ]
  },
  {
   "cell_type": "markdown",
   "id": "d98e68c2-0358-4c74-ab59-aab35acfa78a",
   "metadata": {},
   "source": [
    "Now it is ready."
   ]
  },
  {
   "cell_type": "code",
   "execution_count": 18,
   "id": "62712d52-75ec-4c86-8141-83bba1704619",
   "metadata": {},
   "outputs": [],
   "source": [
    "model = LinearRegression().fit(Y, X)"
   ]
  },
  {
   "cell_type": "code",
   "execution_count": 19,
   "id": "175aecfd-a6a7-47b9-8e87-f0402869967f",
   "metadata": {},
   "outputs": [
    {
     "data": {
      "text/plain": [
       "array([[0.00789314]])"
      ]
     },
     "execution_count": 19,
     "metadata": {},
     "output_type": "execute_result"
    }
   ],
   "source": [
    "model.coef_"
   ]
  },
  {
   "cell_type": "code",
   "execution_count": 20,
   "id": "54bb31ff-3efb-4e86-9d60-8dcfa1c25669",
   "metadata": {},
   "outputs": [],
   "source": [
    "x_pred = model.predict(Y)"
   ]
  },
  {
   "cell_type": "code",
   "execution_count": 21,
   "id": "3b4efa8b-491b-4413-94ad-227f62805e8d",
   "metadata": {},
   "outputs": [
    {
     "name": "stdout",
     "output_type": "stream",
     "text": [
      "slope: [[0.00789314]]\n",
      "intercept: [0.0754341]\n"
     ]
    }
   ],
   "source": [
    "print('slope:', model.coef_)\n",
    "print('intercept:', model.intercept_)"
   ]
  },
  {
   "cell_type": "code",
   "execution_count": 22,
   "id": "f2ccc183-2f1b-4614-86c6-6a520b9e50f8",
   "metadata": {},
   "outputs": [
    {
     "data": {
      "image/png": "[encoded data removed]",
      "text/plain": [
       "<Figure size 432x288 with 1 Axes>"
      ]
     },
     "metadata": {
      "needs_background": "light"
     },
     "output_type": "display_data"
    }
   ],
   "source": [
    "plt.scatter(Y, X)\n",
    "plt.plot(Y, x_pred, color='black')\n",
    "plt.show()"
   ]
  },
  {
   "cell_type": "markdown",
   "id": "1d67e5a5-3cb2-4cac-bae7-94c5088fa28c",
   "metadata": {},
   "source": [
    "Now, we do the same for the rest of our variables:"
   ]
  },
  {
   "cell_type": "markdown",
   "id": "97f073c0-40d7-4a0e-b255-f02d0a669906",
   "metadata": {},
   "source": [
    "### CV7_1"
   ]
  },
  {
   "cell_type": "code",
   "execution_count": 23,
   "id": "4296197a-428f-4321-8764-d1e1cb3adf5c",
   "metadata": {},
   "outputs": [
    {
     "name": "stdout",
     "output_type": "stream",
     "text": [
      "slope: [[0.00841025]]\n",
      "intercept: [0.03548043]\n"
     ]
    }
   ],
   "source": [
    "a = adult_df.groupby(['DISTRESS', 'CV7_1']).count()\n",
    "atotals = a.groupby(['DISTRESS']).sum()\n",
    "aprops = a / atotals\n",
    "aprops = aprops.reset_index()\n",
    "aprops\n",
    "afinalprops = aprops[aprops['CV7_1'] == \"YES\"]['AA5C']\n",
    "afinalprops\n",
    "bing1 = afinalprops.values\n",
    "bing1 = bing1.reshape(-1,1)\n",
    "X1 = np.delete(bing1, 25)\n",
    "X1 = X1.reshape(-1,1)\n",
    "model1 = LinearRegression().fit(Y, X1)\n",
    "model1.coef_\n",
    "x1_pred = model1.predict(Y)\n",
    "print('slope:', model1.coef_)\n",
    "print('intercept:', model1.intercept_)"
   ]
  },
  {
   "cell_type": "code",
   "execution_count": 24,
   "id": "704a774b-fb3f-44fc-a73f-50e25620fb9d",
   "metadata": {},
   "outputs": [
    {
     "data": {
      "image/png": "[encoded data removed]",
      "text/plain": [
       "<Figure size 432x288 with 1 Axes>"
      ]
     },
     "metadata": {
      "needs_background": "light"
     },
     "output_type": "display_data"
    }
   ],
   "source": [
    "plt.scatter(Y, X1)\n",
    "plt.plot(Y, x1_pred, color='red')\n",
    "plt.show()"
   ]
  },
  {
   "cell_type": "markdown",
   "id": "5f858e93-003f-4c6d-9a51-818ba48a7af0",
   "metadata": {},
   "source": [
    "### CV7_2"
   ]
  },
  {
   "cell_type": "code",
   "execution_count": 25,
   "id": "c584e0ff-eee9-4225-9ac2-6411e6981f5d",
   "metadata": {},
   "outputs": [
    {
     "name": "stdout",
     "output_type": "stream",
     "text": [
      "slope: [[0.00948629]]\n",
      "intercept: [0.11119345]\n"
     ]
    }
   ],
   "source": [
    "b = adult_df.groupby(['DISTRESS', 'CV7_2']).count()\n",
    "btotals = b.groupby(['DISTRESS']).sum()\n",
    "bprops = b / btotals\n",
    "bprops = bprops.reset_index()\n",
    "bprops\n",
    "bfinalprops = bprops[bprops['CV7_2'] == \"YES\"]['AA5C']\n",
    "bfinalprops\n",
    "bing2 = bfinalprops.values\n",
    "bing2 = bing2.reshape(-1,1)\n",
    "X2 = np.delete(bing2, 25)\n",
    "X2 = X2.reshape(-1,1)\n",
    "model2 = LinearRegression().fit(Y, X2)\n",
    "model2.coef_\n",
    "x2_pred = model2.predict(Y)\n",
    "print('slope:', model2.coef_)\n",
    "print('intercept:', model2.intercept_)"
   ]
  },
  {
   "cell_type": "code",
   "execution_count": 26,
   "id": "deae10dd-5306-4c84-ae73-1f246aca960e",
   "metadata": {},
   "outputs": [
    {
     "data": {
      "image/png": "[encoded data removed]",
      "text/plain": [
       "<Figure size 432x288 with 1 Axes>"
      ]
     },
     "metadata": {
      "needs_background": "light"
     },
     "output_type": "display_data"
    }
   ],
   "source": [
    "plt.scatter(Y, X2)\n",
    "plt.plot(Y, x2_pred, color='orange')\n",
    "plt.show()"
   ]
  },
  {
   "cell_type": "markdown",
   "id": "059b988b-8bb2-40e3-97ee-560de054cc74",
   "metadata": {},
   "source": [
    "### CV7_3"
   ]
  },
  {
   "cell_type": "code",
   "execution_count": 27,
   "id": "e65336db-fcb3-41cd-b35b-e24d35bd05be",
   "metadata": {},
   "outputs": [
    {
     "name": "stdout",
     "output_type": "stream",
     "text": [
      "slope: [[0.00474906]]\n",
      "intercept: [0.22433384]\n"
     ]
    }
   ],
   "source": [
    "c = adult_df.groupby(['DISTRESS', 'CV7_3']).count()\n",
    "ctotals = c.groupby(['DISTRESS']).sum()\n",
    "cprops = c / ctotals\n",
    "cprops = cprops.reset_index()\n",
    "cprops\n",
    "cfinalprops = cprops[cprops['CV7_3'] == \"YES\"]['AA5C']\n",
    "cfinalprops\n",
    "bing3 = cfinalprops.values\n",
    "bing3 = bing3.reshape(-1,1)\n",
    "X3 = np.delete(bing3, 25)\n",
    "X3 = X3.reshape(-1,1)\n",
    "model3 = LinearRegression().fit(Y, X3)\n",
    "model3.coef_\n",
    "x3_pred = model3.predict(Y)\n",
    "print('slope:', model3.coef_)\n",
    "print('intercept:', model3.intercept_)"
   ]
  },
  {
   "cell_type": "code",
   "execution_count": 28,
   "id": "f2667dbe-865e-4c08-a429-f6bc2da21be9",
   "metadata": {},
   "outputs": [
    {
     "data": {
      "image/png": "[encoded data removed]",
      "text/plain": [
       "<Figure size 432x288 with 1 Axes>"
      ]
     },
     "metadata": {
      "needs_background": "light"
     },
     "output_type": "display_data"
    }
   ],
   "source": [
    "plt.scatter(Y, X3)\n",
    "plt.plot(Y, x3_pred, color='yellow')\n",
    "plt.show()"
   ]
  },
  {
   "cell_type": "markdown",
   "id": "987beabc-39af-4632-a620-5ef8471d3f08",
   "metadata": {},
   "source": [
    "### CV7_4"
   ]
  },
  {
   "cell_type": "code",
   "execution_count": 29,
   "id": "80002aa3-799d-4d33-a4a3-febaa3fe5d3b",
   "metadata": {},
   "outputs": [
    {
     "name": "stdout",
     "output_type": "stream",
     "text": [
      "slope: [[0.00274451]]\n",
      "intercept: [0.14540029]\n"
     ]
    }
   ],
   "source": [
    "d = adult_df.groupby(['DISTRESS', 'CV7_4']).count()\n",
    "dtotals = d.groupby(['DISTRESS']).sum()\n",
    "dprops = d / dtotals\n",
    "dprops = dprops.reset_index()\n",
    "dprops\n",
    "dfinalprops = dprops[dprops['CV7_4'] == \"YES\"]['AA5C']\n",
    "dfinalprops\n",
    "bing4 = dfinalprops.values\n",
    "bing4 = bing4.reshape(-1,1)\n",
    "X4 = np.delete(bing4, 25)\n",
    "X4 = X4.reshape(-1,1)\n",
    "model4 = LinearRegression().fit(Y, X4)\n",
    "model4.coef_\n",
    "x4_pred = model4.predict(Y)\n",
    "print('slope:', model4.coef_)\n",
    "print('intercept:', model4.intercept_)"
   ]
  },
  {
   "cell_type": "code",
   "execution_count": 30,
   "id": "3e22a28b-2adf-4797-87a9-f53fa3dec239",
   "metadata": {},
   "outputs": [
    {
     "data": {
      "image/png": "[encoded data removed]",
      "text/plain": [
       "<Figure size 432x288 with 1 Axes>"
      ]
     },
     "metadata": {
      "needs_background": "light"
     },
     "output_type": "display_data"
    }
   ],
   "source": [
    "plt.scatter(Y, X4)\n",
    "plt.plot(Y, x4_pred, color='green')\n",
    "plt.show()"
   ]
  },
  {
   "cell_type": "markdown",
   "id": "4531e854-0b6e-4a93-88ce-120b88d5090a",
   "metadata": {},
   "source": [
    "### CV7_5"
   ]
  },
  {
   "cell_type": "code",
   "execution_count": 31,
   "id": "b8ab1fe0-8432-4e67-82ae-9a5c9c0fb92d",
   "metadata": {},
   "outputs": [
    {
     "name": "stdout",
     "output_type": "stream",
     "text": [
      "slope: [[0.00045818]]\n",
      "intercept: [0.02465135]\n"
     ]
    }
   ],
   "source": [
    "e = adult_df.groupby(['DISTRESS', 'CV7_5']).count()\n",
    "etotals = e.groupby(['DISTRESS']).sum()\n",
    "eprops = e / etotals\n",
    "eprops = eprops.reset_index()\n",
    "eprops\n",
    "efinalprops = eprops[eprops['CV7_5'] == \"YES\"]['AA5C']\n",
    "efinalprops\n",
    "bing5 = efinalprops.values\n",
    "bing5 = bing5.reshape(-1,1)\n",
    "X5 = np.delete(bing5, 25)\n",
    "X5 = X5.reshape(-1,1)\n",
    "model5 = LinearRegression().fit(Y, X5)\n",
    "model5.coef_\n",
    "x5_pred = model5.predict(Y)\n",
    "print('slope:', model5.coef_)\n",
    "print('intercept:', model5.intercept_)"
   ]
  },
  {
   "cell_type": "code",
   "execution_count": 32,
   "id": "20de5604-03e8-4c6a-a9cf-36beb8210c7c",
   "metadata": {},
   "outputs": [
    {
     "data": {
      "image/png": "[encoded data removed]",
      "text/plain": [
       "<Figure size 432x288 with 1 Axes>"
      ]
     },
     "metadata": {
      "needs_background": "light"
     },
     "output_type": "display_data"
    }
   ],
   "source": [
    "plt.scatter(Y, X5)\n",
    "plt.plot(Y, x5_pred, color='blue')\n",
    "plt.show()"
   ]
  },
  {
   "cell_type": "markdown",
   "id": "e0418dd8-763b-473e-8005-9a8ed9e0a332",
   "metadata": {},
   "source": [
    "### CV7_6"
   ]
  },
  {
   "cell_type": "code",
   "execution_count": 33,
   "id": "60e38848-c305-4609-a9ae-35ea6dc30983",
   "metadata": {},
   "outputs": [
    {
     "name": "stdout",
     "output_type": "stream",
     "text": [
      "slope: [[0.00944908]]\n",
      "intercept: [0.01617633]\n"
     ]
    }
   ],
   "source": [
    "f = adult_df.groupby(['DISTRESS', 'CV7_6']).count()\n",
    "ftotals = f.groupby(['DISTRESS']).sum()\n",
    "fprops = f / ftotals\n",
    "fprops = fprops.reset_index()\n",
    "fprops\n",
    "ffinalprops = fprops[fprops['CV7_6'] == \"YES\"]['AA5C']\n",
    "ffinalprops\n",
    "bing6 = ffinalprops.values\n",
    "bing6 = bing6.reshape(-1,1)\n",
    "X6 = np.delete(bing6, 25)\n",
    "X6 = X6.reshape(-1,1)\n",
    "model6 = LinearRegression().fit(Y, X6)\n",
    "model6.coef_\n",
    "x6_pred = model6.predict(Y)\n",
    "print('slope:', model6.coef_)\n",
    "print('intercept:', model6.intercept_)"
   ]
  },
  {
   "cell_type": "code",
   "execution_count": 34,
   "id": "28681e6e-a223-41ea-b5bd-03ae81afbf98",
   "metadata": {},
   "outputs": [
    {
     "data": {
      "image/png": "[encoded data removed]",
      "text/plain": [
       "<Figure size 432x288 with 1 Axes>"
      ]
     },
     "metadata": {
      "needs_background": "light"
     },
     "output_type": "display_data"
    }
   ],
   "source": [
    "plt.scatter(Y, X6)\n",
    "plt.plot(Y, x6_pred, color='purple')\n",
    "plt.show()"
   ]
  },
  {
   "cell_type": "markdown",
   "id": "8c56f13a-1e49-4cfc-a1f6-6c39ee63a721",
   "metadata": {},
   "source": [
    "### CV7_7"
   ]
  },
  {
   "cell_type": "code",
   "execution_count": 35,
   "id": "da431e63-9005-49d7-8fbd-858e8c01cdd9",
   "metadata": {},
   "outputs": [
    {
     "name": "stdout",
     "output_type": "stream",
     "text": [
      "slope: [[0.01521413]]\n",
      "intercept: [-0.01092046]\n"
     ]
    }
   ],
   "source": [
    "g = adult_df.groupby(['DISTRESS', 'CV7_7']).count()\n",
    "gtotals = g.groupby(['DISTRESS']).sum()\n",
    "gprops = g / gtotals\n",
    "gprops = gprops.reset_index()\n",
    "gprops\n",
    "gfinalprops = gprops[gprops['CV7_7'] == \"YES\"]['AA5C']\n",
    "gfinalprops\n",
    "bing7 = gfinalprops.values\n",
    "bing7 = bing7.reshape(-1,1)\n",
    "X7 = np.delete(bing7, 25)\n",
    "X7 = X7.reshape(-1,1)\n",
    "model7 = LinearRegression().fit(Y, X7)\n",
    "model7.coef_\n",
    "x7_pred = model7.predict(Y)\n",
    "print('slope:', model7.coef_)\n",
    "print('intercept:', model7.intercept_)"
   ]
  },
  {
   "cell_type": "code",
   "execution_count": 36,
   "id": "4893cd72-80e8-4066-93c4-3984c97f1b96",
   "metadata": {},
   "outputs": [
    {
     "data": {
      "image/png": "[encoded data removed]",
      "text/plain": [
       "<Figure size 432x288 with 1 Axes>"
      ]
     },
     "metadata": {
      "needs_background": "light"
     },
     "output_type": "display_data"
    }
   ],
   "source": [
    "plt.scatter(Y, X7)\n",
    "plt.plot(Y, x7_pred, color='pink')\n",
    "plt.show()"
   ]
  },
  {
   "cell_type": "markdown",
   "id": "9af6270b-d312-461e-9983-3357a77ba1ac",
   "metadata": {},
   "source": [
    "### CV7_8"
   ]
  },
  {
   "cell_type": "code",
   "execution_count": 37,
   "id": "da62d082-0328-4001-800a-70f85dd12aba",
   "metadata": {},
   "outputs": [
    {
     "name": "stdout",
     "output_type": "stream",
     "text": [
      "slope: [[0.00415819]]\n",
      "intercept: [-0.00908834]\n"
     ]
    }
   ],
   "source": [
    "h = adult_df.groupby(['DISTRESS', 'CV7_8']).count()\n",
    "htotals = h.groupby(['DISTRESS']).sum()\n",
    "hprops = h / htotals\n",
    "hprops = hprops.reset_index()\n",
    "hprops\n",
    "hfinalprops = hprops[hprops['CV7_8'] == \"YES\"]['AA5C']\n",
    "hfinalprops\n",
    "bing8 = hfinalprops.values\n",
    "bing8 = bing8.reshape(-1,1)\n",
    "X8 = np.delete(bing8, 25)\n",
    "X8 = X8.reshape(-1,1)\n",
    "model8 = LinearRegression().fit(Y, X8)\n",
    "model8.coef_\n",
    "x8_pred = model8.predict(Y)\n",
    "print('slope:', model8.coef_)\n",
    "print('intercept:', model8.intercept_)"
   ]
  },
  {
   "cell_type": "code",
   "execution_count": 38,
   "id": "a8aeac38-6ba4-4921-b5ba-7ac7c9d2e8a1",
   "metadata": {},
   "outputs": [
    {
     "data": {
      "image/png": "[encoded data removed]",
      "text/plain": [
       "<Figure size 432x288 with 1 Axes>"
      ]
     },
     "metadata": {
      "needs_background": "light"
     },
     "output_type": "display_data"
    }
   ],
   "source": [
    "plt.scatter(Y, X8)\n",
    "plt.plot(Y, x8_pred, color='brown')\n",
    "plt.show()"
   ]
  },
  {
   "cell_type": "markdown",
   "id": "f2c26ce4-a7cf-46fa-84f5-5edcbbb450b8",
   "metadata": {},
   "source": [
    "### CV7_9"
   ]
  },
  {
   "cell_type": "code",
   "execution_count": 39,
   "id": "24731c4a-3e8c-4c20-8028-230d9a79dd50",
   "metadata": {},
   "outputs": [
    {
     "name": "stdout",
     "output_type": "stream",
     "text": [
      "slope: [[0.00142768]]\n",
      "intercept: [0.01781202]\n"
     ]
    }
   ],
   "source": [
    "i = adult_df.groupby(['DISTRESS', 'CV7_9']).count()\n",
    "itotals = i.groupby(['DISTRESS']).sum()\n",
    "iprops = i / itotals\n",
    "iprops = iprops.reset_index()\n",
    "iprops\n",
    "ifinalprops = iprops[iprops['CV7_9'] == \"YES\"]['AA5C']\n",
    "ifinalprops\n",
    "bing9 = ifinalprops.values\n",
    "bing9 = bing9.reshape(-1,1)\n",
    "X9 = np.delete(bing9, 25)\n",
    "X9 = X9.reshape(-1,1)\n",
    "model9 = LinearRegression().fit(Y, X9)\n",
    "model9.coef_\n",
    "x9_pred = model9.predict(Y)\n",
    "print('slope:', model9.coef_)\n",
    "print('intercept:', model9.intercept_)"
   ]
  },
  {
   "cell_type": "code",
   "execution_count": 40,
   "id": "0a6d172d-82ca-4c9e-a88e-398cbb48f56a",
   "metadata": {},
   "outputs": [
    {
     "data": {
      "image/png": "[encoded data removed]",
      "text/plain": [
       "<Figure size 432x288 with 1 Axes>"
      ]
     },
     "metadata": {
      "needs_background": "light"
     },
     "output_type": "display_data"
    }
   ],
   "source": [
    "plt.scatter(Y, X9)\n",
    "plt.plot(Y, x9_pred, color='cyan')\n",
    "plt.show()"
   ]
  },
  {
   "cell_type": "markdown",
   "id": "c8672119-d859-4355-b1fb-592afed30c93",
   "metadata": {},
   "source": [
    "### CV7_10        =  \"EVER EXPERIENCED DUE TO COVID-19 OUTBREAK: NONE OF THESE\""
   ]
  },
  {
   "cell_type": "code",
   "execution_count": 41,
   "id": "033c6927-f82a-4432-ac30-e226db3026e5",
   "metadata": {},
   "outputs": [
    {
     "name": "stdout",
     "output_type": "stream",
     "text": [
      "slope: [[-0.01409242]]\n",
      "intercept: [0.47161348]\n"
     ]
    }
   ],
   "source": [
    "j = adult_df.groupby(['DISTRESS', 'CV7_10']).count()\n",
    "jtotals = j.groupby(['DISTRESS']).sum()\n",
    "jprops = j / jtotals\n",
    "jprops = jprops.reset_index()\n",
    "jprops\n",
    "jfinalprops = jprops[jprops['CV7_10'] == \"YES\"]['AA5C']\n",
    "jfinalprops\n",
    "bing10 = jfinalprops.values\n",
    "bing10 = bing10.reshape(-1,1)\n",
    "X10 = np.delete(bing10, 25)\n",
    "X10 = X10.reshape(-1,1)\n",
    "model10 = LinearRegression().fit(Y, X10)\n",
    "model10.coef_\n",
    "x10_pred = model10.predict(Y)\n",
    "print('slope:', model10.coef_)\n",
    "print('intercept:', model10.intercept_)"
   ]
  },
  {
   "cell_type": "code",
   "execution_count": 42,
   "id": "6d45cef1-6691-4714-9b91-9707f65d5625",
   "metadata": {},
   "outputs": [
    {
     "data": {
      "image/png": "[encoded data removed]",
      "text/plain": [
       "<Figure size 432x288 with 1 Axes>"
      ]
     },
     "metadata": {
      "needs_background": "light"
     },
     "output_type": "display_data"
    }
   ],
   "source": [
    "plt.scatter(Y, X10)\n",
    "plt.plot(Y, x10_pred, color='magenta')\n",
    "plt.show()"
   ]
  },
  {
   "cell_type": "markdown",
   "id": "2acbbe39-238a-4415-aa9b-992f488e7bdb",
   "metadata": {},
   "source": [
    "### CV7_11        =  \"EVER EXPERIENCED DUE TO COVID-19 OUTBREAK: INCREASED MENTAL HEALTH CHALLENGES\""
   ]
  },
  {
   "cell_type": "code",
   "execution_count": 43,
   "id": "6c4bd0c4-18ed-4232-93e7-2059e8b738dc",
   "metadata": {},
   "outputs": [
    {
     "name": "stdout",
     "output_type": "stream",
     "text": [
      "slope: [[0.00034318]]\n",
      "intercept: [0.00788963]\n"
     ]
    }
   ],
   "source": [
    "k = adult_df.groupby(['DISTRESS', 'CV7_11']).count()\n",
    "ktotals = k.groupby(['DISTRESS']).sum()\n",
    "kprops = k / ktotals\n",
    "kprops = kprops.reset_index()\n",
    "kprops\n",
    "kfinalprops = kprops[kprops['CV7_11'] == \"YES\"]['AA5C']\n",
    "kfinalprops\n",
    "bing11 = kfinalprops.values\n",
    "bing11 = bing11.reshape(-1,1)\n",
    "X11 = np.delete(bing11, 25)\n",
    "X11 = X11.reshape(-1,1)\n",
    "model11 = LinearRegression().fit(Y, X11)\n",
    "model11.coef_\n",
    "x11_pred = model11.predict(Y)\n",
    "print('slope:', model11.coef_)\n",
    "print('intercept:', model11.intercept_)"
   ]
  },
  {
   "cell_type": "code",
   "execution_count": 44,
   "id": "fb56f147-88a3-41e7-acc9-7fb0ff08d95b",
   "metadata": {},
   "outputs": [
    {
     "data": {
      "image/png": "[encoded data removed]",
      "text/plain": [
       "<Figure size 432x288 with 1 Axes>"
      ]
     },
     "metadata": {
      "needs_background": "light"
     },
     "output_type": "display_data"
    }
   ],
   "source": [
    "plt.scatter(Y, X11)\n",
    "plt.plot(Y, x11_pred, color='gray')\n",
    "plt.show()"
   ]
  },
  {
   "cell_type": "markdown",
   "id": "b39412b0-88e0-4c1d-9bde-46d7de4f9aeb",
   "metadata": {},
   "source": [
    "### CV8_1         =  \"INCREASE IN HH DURING COVID STAY-AT-HOME ORDER: INTERPERSONAL CONFLICT\""
   ]
  },
  {
   "cell_type": "code",
   "execution_count": 45,
   "id": "f678b8cc-f7aa-45ab-a518-38254cbde1df",
   "metadata": {},
   "outputs": [
    {
     "name": "stdout",
     "output_type": "stream",
     "text": [
      "slope: [[0.00934817]]\n",
      "intercept: [0.1003169]\n"
     ]
    }
   ],
   "source": [
    "l = adult_df.groupby(['DISTRESS', 'CV8_1']).count()\n",
    "ltotals = l.groupby(['DISTRESS']).sum()\n",
    "lprops = l / ltotals\n",
    "lprops = lprops.reset_index()\n",
    "lprops\n",
    "lfinalprops = lprops[lprops['CV8_1'] == \"YES\"]['AA5C']\n",
    "lfinalprops\n",
    "bing12 = lfinalprops.values\n",
    "bing12 = bing12.reshape(-1,1)\n",
    "X12 = np.delete(bing12, 25)\n",
    "X12 = X12.reshape(-1,1)\n",
    "model12 = LinearRegression().fit(Y, X12)\n",
    "model12.coef_\n",
    "x12_pred = model12.predict(Y)\n",
    "print('slope:', model12.coef_)\n",
    "print('intercept:', model12.intercept_)"
   ]
  },
  {
   "cell_type": "code",
   "execution_count": 46,
   "id": "ad9127fd-cf55-4055-884f-412a5c30e9e7",
   "metadata": {},
   "outputs": [
    {
     "data": {
      "image/png": "[encoded data removed]",
      "text/plain": [
       "<Figure size 432x288 with 1 Axes>"
      ]
     },
     "metadata": {
      "needs_background": "light"
     },
     "output_type": "display_data"
    }
   ],
   "source": [
    "plt.scatter(Y, X12)\n",
    "plt.plot(Y, x12_pred, color='lime')\n",
    "plt.show()"
   ]
  },
  {
   "cell_type": "markdown",
   "id": "ee6d92e8-77a2-41f7-a56d-4cb6d16165f7",
   "metadata": {},
   "source": [
    "### CV8_2         =  \"INCREASE IN HH DURING COVID STAY-AT-HOME ORDER: SNAPPING/YELLING\""
   ]
  },
  {
   "cell_type": "code",
   "execution_count": 47,
   "id": "d1ccbe68-0233-41e6-bdea-352c5a0736b8",
   "metadata": {},
   "outputs": [
    {
     "name": "stdout",
     "output_type": "stream",
     "text": [
      "slope: [[0.01522962]]\n",
      "intercept: [0.07062213]\n"
     ]
    }
   ],
   "source": [
    "m = adult_df.groupby(['DISTRESS', 'CV8_2']).count()\n",
    "mtotals = m.groupby(['DISTRESS']).sum()\n",
    "mprops = m / mtotals\n",
    "mprops = mprops.reset_index()\n",
    "mprops\n",
    "mfinalprops = mprops[mprops['CV8_2'] == \"YES\"]['AA5C']\n",
    "mfinalprops\n",
    "bing13 = mfinalprops.values\n",
    "bing13 = bing13.reshape(-1,1)\n",
    "X13 = np.delete(bing13, 25)\n",
    "X13 = X13.reshape(-1,1)\n",
    "model13 = LinearRegression().fit(Y, X13)\n",
    "model13.coef_\n",
    "x13_pred = model13.predict(Y)\n",
    "print('slope:', model13.coef_)\n",
    "print('intercept:', model13.intercept_)"
   ]
  },
  {
   "cell_type": "code",
   "execution_count": 48,
   "id": "d0eb4a59-7758-4e0c-897d-1dbc4715f058",
   "metadata": {},
   "outputs": [
    {
     "data": {
      "image/png": "[encoded data removed]",
      "text/plain": [
       "<Figure size 432x288 with 1 Axes>"
      ]
     },
     "metadata": {
      "needs_background": "light"
     },
     "output_type": "display_data"
    }
   ],
   "source": [
    "plt.scatter(Y, X13)\n",
    "plt.plot(Y, x13_pred, color='gold')\n",
    "plt.show()"
   ]
  },
  {
   "cell_type": "markdown",
   "id": "bcb3fa56-0820-4f9a-88b2-ea10a0e92da9",
   "metadata": {},
   "source": [
    "### CV8_4         =  \"INCREASE IN HH DURING COVID STAY-AT-HOME ORDER: NONE OF THESE\""
   ]
  },
  {
   "cell_type": "code",
   "execution_count": 49,
   "id": "5873d317-7efb-4269-a028-317e67562120",
   "metadata": {},
   "outputs": [
    {
     "name": "stdout",
     "output_type": "stream",
     "text": [
      "slope: [[-0.0140446]]\n",
      "intercept: [0.67883064]\n"
     ]
    }
   ],
   "source": [
    "n = adult_df.groupby(['DISTRESS', 'CV8_4']).count()\n",
    "ntotals = n.groupby(['DISTRESS']).sum()\n",
    "nprops = n / ntotals\n",
    "nprops = nprops.reset_index()\n",
    "nprops\n",
    "nfinalprops = nprops[nprops['CV8_4'] == \"YES\"]['AA5C']\n",
    "nfinalprops\n",
    "bing14 = nfinalprops.values\n",
    "bing14 = bing14.reshape(-1,1)\n",
    "X14 = np.delete(bing14, 25)\n",
    "X14 = X14.reshape(-1,1)\n",
    "model14 = LinearRegression().fit(Y, X14)\n",
    "model14.coef_\n",
    "x14_pred = model14.predict(Y)\n",
    "print('slope:', model14.coef_)\n",
    "print('intercept:', model14.intercept_)"
   ]
  },
  {
   "cell_type": "code",
   "execution_count": 50,
   "id": "ad35ce3a-6ee3-407b-900a-6b946f3cbfea",
   "metadata": {},
   "outputs": [
    {
     "data": {
      "image/png": "[encoded data removed]",
      "text/plain": [
       "<Figure size 432x288 with 1 Axes>"
      ]
     },
     "metadata": {
      "needs_background": "light"
     },
     "output_type": "display_data"
    }
   ],
   "source": [
    "plt.scatter(Y, X14)\n",
    "plt.plot(Y, x14_pred, color='navy')\n",
    "plt.show()"
   ]
  },
  {
   "cell_type": "markdown",
   "id": "45b0b0c3-4ca4-4d58-af39-a41d1800cabd",
   "metadata": {},
   "source": [
    "### CV9           =  \"WOULD GET COVID-19 VACCINE IF AVAILABLE\""
   ]
  },
  {
   "cell_type": "code",
   "execution_count": 51,
   "id": "eb5e78f7-2621-4caa-b210-91098fb490a3",
   "metadata": {},
   "outputs": [
    {
     "name": "stdout",
     "output_type": "stream",
     "text": [
      "slope: [[-0.00263771]]\n",
      "intercept: [0.82929893]\n"
     ]
    }
   ],
   "source": [
    "o = adult_df.groupby(['DISTRESS', 'CV9']).count()\n",
    "ototals = o.groupby(['DISTRESS']).sum()\n",
    "oprops = o / ototals\n",
    "oprops = oprops.reset_index()\n",
    "oprops\n",
    "ofinalprops = oprops[oprops['CV9'] == \"YES\"]['AA5C']\n",
    "ofinalprops\n",
    "bing15 = ofinalprops.values\n",
    "bing15 = bing15.reshape(-1,1)\n",
    "X15 = np.delete(bing15, 25)\n",
    "X15 = X15.reshape(-1,1)\n",
    "model15 = LinearRegression().fit(Y, X15)\n",
    "model15.coef_\n",
    "x15_pred = model15.predict(Y)\n",
    "print('slope:', model15.coef_)\n",
    "print('intercept:', model15.intercept_)"
   ]
  },
  {
   "cell_type": "code",
   "execution_count": 52,
   "id": "bd306709-2364-4b4d-86e8-048172678201",
   "metadata": {},
   "outputs": [
    {
     "data": {
      "image/png": "[encoded data removed]",
      "text/plain": [
       "<Figure size 432x288 with 1 Axes>"
      ]
     },
     "metadata": {
      "needs_background": "light"
     },
     "output_type": "display_data"
    }
   ],
   "source": [
    "plt.scatter(Y, X15)\n",
    "plt.plot(Y, x15_pred, color='salmon')\n",
    "plt.show()"
   ]
  },
  {
   "cell_type": "code",
   "execution_count": 53,
   "id": "c1eea880-4761-4c44-871d-bf09ddefb05a",
   "metadata": {},
   "outputs": [
    {
     "name": "stdout",
     "output_type": "stream",
     "text": [
      "slope1: [[0.00841025]]\n",
      "slope2: [[0.00948629]]\n",
      "slope3: [[0.00474906]]\n",
      "slope4: [[0.00274451]]\n",
      "slope5: [[0.00045818]]\n",
      "slope6: [[0.00944908]]\n",
      "slope7: [[0.01521413]]\n",
      "slope8: [[0.00415819]]\n",
      "slope9: [[0.00142768]]\n",
      "slope10: [[-0.01409242]]\n",
      "slope11: [[0.00034318]]\n",
      "slope12: [[0.00934817]]\n",
      "slope13: [[0.01522962]]\n",
      "slope14: [[-0.0140446]]\n",
      "slope15: [[-0.00263771]]\n"
     ]
    }
   ],
   "source": [
    "print('slope1:', model1.coef_)\n",
    "print('slope2:', model2.coef_)\n",
    "print('slope3:', model3.coef_)\n",
    "print('slope4:', model4.coef_)\n",
    "print('slope5:', model5.coef_)\n",
    "print('slope6:', model6.coef_)\n",
    "print('slope7:', model7.coef_)\n",
    "print('slope8:', model8.coef_)\n",
    "print('slope9:', model9.coef_)\n",
    "print('slope10:', model10.coef_)\n",
    "print('slope11:', model11.coef_)\n",
    "print('slope12:', model12.coef_)\n",
    "print('slope13:', model13.coef_)\n",
    "print('slope14:', model14.coef_)\n",
    "print('slope15:', model15.coef_)"
   ]
  },
  {
   "cell_type": "markdown",
   "id": "01698302-a472-4894-a905-59bb22827f3c",
   "metadata": {},
   "source": [
    "So it seems slope13 is the steepest, so that variable is the most impactful (followed closely by slope7's variable)."
   ]
  },
  {
   "cell_type": "markdown",
   "id": "cb07ad09-fe2c-40c5-954b-73ac84e6b05a",
   "metadata": {},
   "source": [
    "##### CV8_2         =  \"INCREASE IN HH DURING COVID STAY-AT-HOME ORDER: SNAPPING/YELLING\" causes the greatest increase in distress levels out of any of these variables.\n",
    "\n",
    "##### CV7_10        =  \"EVER EXPERIENCED DUE TO COVID-19 OUTBREAK: NONE OF THESE\" causes the greatest decrease in distress levels out of any of these variables."
   ]
  },
  {
   "cell_type": "markdown",
   "id": "d01482e8-d638-4e36-8298-5960c3715ccb",
   "metadata": {},
   "source": [
    "# Verifying our results"
   ]
  },
  {
   "cell_type": "markdown",
   "id": "9f79ce2e-0288-4f56-adb7-73fdea519834",
   "metadata": {},
   "source": [
    "### For ### CV8_2         =  \"INCREASE IN HH DURING COVID STAY-AT-HOME ORDER: SNAPPING/YELLING\""
   ]
  },
  {
   "cell_type": "markdown",
   "id": "2ca19edb-9cea-4527-9b1b-0f38c97aed74",
   "metadata": {},
   "source": [
    "We compare:"
   ]
  },
  {
   "cell_type": "code",
   "execution_count": 54,
   "id": "d574b402-e776-4a5a-a2cf-6db7d5f0f710",
   "metadata": {},
   "outputs": [
    {
     "data": {
      "text/plain": [
       "array([[0.03522854],\n",
       "       [0.05882353],\n",
       "       [0.08458524],\n",
       "       [0.11247878],\n",
       "       [0.12750643],\n",
       "       [0.14305556],\n",
       "       [0.16195569],\n",
       "       [0.20660277],\n",
       "       [0.184379  ],\n",
       "       [0.21202532],\n",
       "       [0.24603175],\n",
       "       [0.25449871],\n",
       "       [0.27506427],\n",
       "       [0.27822581],\n",
       "       [0.28125   ],\n",
       "       [0.28888889],\n",
       "       [0.33009709],\n",
       "       [0.4047619 ],\n",
       "       [0.3255814 ],\n",
       "       [0.35      ],\n",
       "       [0.45      ],\n",
       "       [0.34482759],\n",
       "       [0.5       ],\n",
       "       [0.42857143],\n",
       "       [0.25      ]])"
      ]
     },
     "execution_count": 54,
     "metadata": {},
     "output_type": "execute_result"
    }
   ],
   "source": [
    "X13"
   ]
  },
  {
   "cell_type": "markdown",
   "id": "057a2628-d0ea-4ba0-b154-b8f31fd6a24e",
   "metadata": {},
   "source": [
    "to:"
   ]
  },
  {
   "cell_type": "code",
   "execution_count": 55,
   "id": "9ae57597-89c1-4492-9c90-76c2bf382c4d",
   "metadata": {},
   "outputs": [
    {
     "data": {
      "text/plain": [
       "array([[0.07062213],\n",
       "       [0.08585175],\n",
       "       [0.10108137],\n",
       "       [0.116311  ],\n",
       "       [0.13154062],\n",
       "       [0.14677024],\n",
       "       [0.16199986],\n",
       "       [0.17722948],\n",
       "       [0.1924591 ],\n",
       "       [0.20768872],\n",
       "       [0.22291834],\n",
       "       [0.23814797],\n",
       "       [0.25337759],\n",
       "       [0.26860721],\n",
       "       [0.28383683],\n",
       "       [0.29906645],\n",
       "       [0.31429607],\n",
       "       [0.32952569],\n",
       "       [0.34475531],\n",
       "       [0.35998494],\n",
       "       [0.37521456],\n",
       "       [0.39044418],\n",
       "       [0.4056738 ],\n",
       "       [0.42090342],\n",
       "       [0.43613304]])"
      ]
     },
     "execution_count": 55,
     "metadata": {},
     "output_type": "execute_result"
    }
   ],
   "source": [
    "x13_pred"
   ]
  },
  {
   "cell_type": "markdown",
   "id": "7a081497-8a97-490f-8951-0afc1ad194c3",
   "metadata": {},
   "source": [
    "Now, we find the correlation coefficient to ensure that our trendlines reflect strong, reliable correlations."
   ]
  },
  {
   "cell_type": "code",
   "execution_count": 56,
   "id": "b811f542-2953-4673-bf2c-3700f8ad4296",
   "metadata": {},
   "outputs": [
    {
     "data": {
      "text/plain": [
       "SpearmanrResult(correlation=0.916923076923077, pvalue=1.1878653188790997e-10)"
      ]
     },
     "execution_count": 56,
     "metadata": {},
     "output_type": "execute_result"
    }
   ],
   "source": [
    "stats.spearmanr(X13, Y)"
   ]
  },
  {
   "cell_type": "markdown",
   "id": "f7cf7207-b0be-477f-b319-471b3b16c604",
   "metadata": {},
   "source": [
    "The correlation is high (close to 1), and the pvalue is very low (almost 0) so we can be assured that this result is trustworthy."
   ]
  },
  {
   "cell_type": "markdown",
   "id": "c10ac074-6696-4088-85e6-8f77024b675a",
   "metadata": {},
   "source": [
    "We can also conduct a chi-squared test with the null hypothesis that our observed and expected values deviate too much for a strong enough correlation to exist."
   ]
  },
  {
   "cell_type": "code",
   "execution_count": 57,
   "id": "24e60071-1bb8-4077-bd84-adb491a476ae",
   "metadata": {},
   "outputs": [
    {
     "data": {
      "text/plain": [
       "Power_divergenceResult(statistic=array([0.18173187]), pvalue=array([9.54971411e-05]))"
      ]
     },
     "execution_count": 57,
     "metadata": {},
     "output_type": "execute_result"
    }
   ],
   "source": [
    "stats.chisquare(X13, x13_pred, ddof=23.9999) # using the actual degree of freedom (24) bugs it out and produces a NaN value"
   ]
  },
  {
   "cell_type": "markdown",
   "id": "ed417d72-41d1-4dbc-babc-755e1255d492",
   "metadata": {},
   "source": [
    "Since our chi-squared test statistic is low with the appropriate degree of freedom,\n",
    "\n",
    "and the p-value is almost 0, \n",
    "\n",
    "we have very good evidence to reject the null hypothesis and we know our results are significant.\n",
    "\n",
    "This will ring similarly for our other tests:"
   ]
  },
  {
   "cell_type": "markdown",
   "id": "a71bc901-7abe-4a5a-bae1-604610844f2b",
   "metadata": {},
   "source": [
    "### CV7_10        =  \"EVER EXPERIENCED DUE TO COVID-19 OUTBREAK: NONE OF THESE\""
   ]
  },
  {
   "cell_type": "code",
   "execution_count": 58,
   "id": "3de87fce-2a4a-4c55-8edf-d51161a96d81",
   "metadata": {},
   "outputs": [
    {
     "data": {
      "text/plain": [
       "SpearmanrResult(correlation=-0.8707692307692307, pvalue=1.5135913785692422e-08)"
      ]
     },
     "execution_count": 58,
     "metadata": {},
     "output_type": "execute_result"
    }
   ],
   "source": [
    "stats.spearmanr(X10, Y)"
   ]
  },
  {
   "cell_type": "code",
   "execution_count": 59,
   "id": "82617bdd-532d-4776-a88d-97ff9ab7f9d4",
   "metadata": {},
   "outputs": [
    {
     "data": {
      "text/plain": [
       "Power_divergenceResult(statistic=array([0.52681296]), pvalue=array([5.01936942e-05]))"
      ]
     },
     "execution_count": 59,
     "metadata": {},
     "output_type": "execute_result"
    }
   ],
   "source": [
    "stats.chisquare(X10, x10_pred, ddof=23.9999)"
   ]
  },
  {
   "cell_type": "markdown",
   "id": "c2b6e741-ba30-49cf-8116-7304d64d78f6",
   "metadata": {},
   "source": [
    "# CONCLUSION"
   ]
  },
  {
   "cell_type": "markdown",
   "id": "b6e2ec6a-7b1b-47cb-a528-8fdd4d663862",
   "metadata": {},
   "source": [
    "In this walkthrough, we have:\n",
    "\n",
    "- Prepared COVID data in our dataframe adult_df\n",
    "\n",
    "- Represented the data with multiple visualizations in plotly\n",
    "\n",
    "- Manipulated adult_df to isolate column variables: aggregating, cleaning, finding proportions and counts, etc.\n",
    "\n",
    "- Performed Linear Regression tests to find variables that correlated with a change \"DISTRESS\" in distress values\n",
    "\n",
    "- Verified our findings using scipy statistical tests (spearmanr, chisquare)\n",
    "\n",
    "### Therefore, we can confidently state that among other findings, \n",
    "\n",
    "##### CV8_2         =  \"INCREASE IN HH DURING COVID STAY-AT-HOME ORDER: SNAPPING/YELLING\" causes the greatest increase in distress levels out of any of these variables,\n",
    "\n",
    "so increased snapping/yelling at one's home due to COVID STAY-AT-HOME Order is most likely to raise distress levels out of all surveyed variables, while\n",
    "\n",
    "##### CV7_10        =  \"EVER EXPERIENCED DUE TO COVID-19 OUTBREAK: NONE OF THESE\" causes the greatest decrease in distress levels out of any of these variables,\n",
    "\n",
    "so respondents who didn't experience any COVID-related troubles listed in the survey were increasingly unlikely to report higher distress levels."
   ]
  },
  {
   "cell_type": "code",
   "execution_count": 62,
   "id": "6b39af2c-eb74-4300-b707-f392eeb4f332",
   "metadata": {},
   "outputs": [
    {
     "data": {
      "text/html": [
       "<iframe\n",
       "    scrolling=\"no\"\n",
       "    width=\"620px\"\n",
       "    height=\"620\"\n",
       "    src=\"iframe_figures/figure_62.html\"\n",
       "    frameborder=\"0\"\n",
       "    allowfullscreen\n",
       "></iframe>\n"
      ]
     },
     "metadata": {},
     "output_type": "display_data"
    }
   ],
   "source": [
    "fig = px.histogram(adult_df, \n",
    "x = \"DISTRESS\", \n",
    "color = \"CV8_2\", \n",
    "width = 600,\n",
    "height = 600,\n",
    "marginal = \"box\", # or violin, rug\n",
    "hover_data = adult_df.columns,\n",
    "barmode='overlay')\n",
    "\n",
    "fig.update_layout(barmode='overlay')\n",
    "\n",
    "fig.show()"
   ]
  },
  {
   "cell_type": "code",
   "execution_count": 64,
   "id": "8b2d3986-57a0-4277-aea2-13de60a5a3e7",
   "metadata": {},
   "outputs": [
    {
     "data": {
      "text/html": [
       "<iframe\n",
       "    scrolling=\"no\"\n",
       "    width=\"620px\"\n",
       "    height=\"620\"\n",
       "    src=\"iframe_figures/figure_64.html\"\n",
       "    frameborder=\"0\"\n",
       "    allowfullscreen\n",
       "></iframe>\n"
      ]
     },
     "metadata": {},
     "output_type": "display_data"
    }
   ],
   "source": [
    "fig = px.histogram(adult_df, \n",
    "x = \"DISTRESS\", \n",
    "color = \"CV7_10\", \n",
    "width = 600,\n",
    "height = 600,\n",
    "marginal = \"box\", # or violin, rug\n",
    "hover_data = adult_df.columns,\n",
    "barmode='overlay')\n",
    "\n",
    "fig.update_layout(barmode='overlay')\n",
    "\n",
    "fig.show()"
   ]
  }
 ],
 "metadata": {
  "kernelspec": {
   "display_name": "Python 3 (ipykernel)",
   "language": "python",
   "name": "python3"
  },
  "language_info": {
   "codemirror_mode": {
    "name": "ipython",
    "version": 3
   },
   "file_extension": ".py",
   "mimetype": "text/x-python",
   "name": "python",
   "nbconvert_exporter": "python",
   "pygments_lexer": "ipython3",
   "version": "3.8.13"
  }
 },
 "nbformat": 4,
 "nbformat_minor": 5
}
